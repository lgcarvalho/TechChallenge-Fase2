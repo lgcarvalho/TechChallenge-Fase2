{
 "cells": [
  {
   "cell_type": "markdown",
   "metadata": {},
   "source": [
    "# **1IADT - Tech Challenge - Fase 2**\n",
    "\n",
    "**Luiz Carvalho**\n",
    "\n",
    "---"
   ]
  },
  {
   "cell_type": "markdown",
   "metadata": {},
   "source": [
    "**O PROBLEMA**\n",
    "\n",
    "O desafio consiste em projetar, implementar e testar um sistema que utilize Algoritmos Genéticos para otimizar uma função ou resolver um problema complexo de otimização. Você pode escolher problemas como otimização de rotas, alocação de recursos e design de redes neurais."
   ]
  },
  {
   "cell_type": "markdown",
   "metadata": {},
   "source": [
    "**REQUISITOS DO PROJETO**\n",
    "\n",
    "- **Definição do Problema:** Escolha um problema real que possa ser resolvido por meio de otimização genética. Descreva o problema, os objetivos e os critérios de sucesso.\n",
    "- **Testes e Resultado:** Realize testes para demonstrar a eficácia do algoritmo. Compare os resultados obtidos com métodos de solução convencionais.\n",
    "- **Documentação:** Forneça uma documentação completa do projeto, incluindo descrião do problema, detalhes da implementação do algoritmo, análises de resultados e conclusões."
   ]
  },
  {
   "cell_type": "markdown",
   "metadata": {},
   "source": [
    "**ENTREGÁVEL**\n",
    "- Código-fonte do projeto. Deve incluir todos os scripts e códigos utilizados na implementação do algoritmo genético.\n",
    "- Documento detalhado descrevendo o problema, a abordagem utilizada, os resultados obtidos e as conclusões.\n",
    "- Um vídeo explicativo do projeto, demonstrando a aplicação prática do algoritmo e discutindo os resultados obtidos."
   ]
  },
  {
   "cell_type": "markdown",
   "metadata": {},
   "source": [
    "---"
   ]
  },
  {
   "cell_type": "markdown",
   "metadata": {},
   "source": [
    "### **Instalando as bibliotecas necessárias**"
   ]
  },
  {
   "cell_type": "code",
   "execution_count": 1,
   "metadata": {},
   "outputs": [],
   "source": [
    "#!python -m pip install pandas\n",
    "#!python -m pip install numpy\n",
    "#!python -m pip install matplotlib\n",
    "#!python -m pip install openpyxl"
   ]
  },
  {
   "cell_type": "markdown",
   "metadata": {},
   "source": [
    "### **Importando as bibliotecas**"
   ]
  },
  {
   "cell_type": "code",
   "execution_count": 2,
   "metadata": {},
   "outputs": [],
   "source": [
    "import pandas as pd\n",
    "import random\n",
    "import numpy as np"
   ]
  },
  {
   "cell_type": "markdown",
   "metadata": {},
   "source": [
    "### **Otimização de Rotas de Metrô**\n",
    "Este projeto visa resolver um problema de otimização de rotas do Metrô de São Paulo utilizando Algoritmos Genéticos. O objetivo é validar qual a menor distância entre duas estações, focando nas linhas e integrações do metrô, e quais são as estações que fazem parte desta rota otimizada."
   ]
  },
  {
   "cell_type": "markdown",
   "metadata": {},
   "source": [
    "**Objetivos**\n",
    "\n",
    "- Minimizar a distância total de viagem entre duas estações.\n",
    "- Garantir que não seja utilizado a mesma estação mais de uma vez.\n",
    "- Manter a viabilidade das rotas, respeitando as integrações existentes entre as estações."
   ]
  },
  {
   "cell_type": "markdown",
   "metadata": {},
   "source": [
    "**Critérios de Sucesso**\n",
    "\n",
    "- Redução significativa da distância total de viagem em comparação com as rotas atuais.\n",
    "- Manutenção da integração entre todas as estações.\n",
    "- Algoritmo que encontre soluções em um tempo computacional razoável."
   ]
  },
  {
   "cell_type": "markdown",
   "metadata": {},
   "source": [
    "### **Base de dados**\n",
    "\n",
    "A base de dados utilizada é o arquivo “lista_linhas_estacoes_sp.xlsx” com a informação de todas as linhas e estações do metrô de São Paulo. Contêm também as coordenadas da estação, suas estações anteriores e próximas com suas respectivas distâncias."
   ]
  },
  {
   "cell_type": "markdown",
   "metadata": {},
   "source": [
    "**Importar o DataFrame**"
   ]
  },
  {
   "cell_type": "code",
   "execution_count": 3,
   "metadata": {},
   "outputs": [
    {
     "data": {
      "text/html": [
       "<div>\n",
       "<style scoped>\n",
       "    .dataframe tbody tr th:only-of-type {\n",
       "        vertical-align: middle;\n",
       "    }\n",
       "\n",
       "    .dataframe tbody tr th {\n",
       "        vertical-align: top;\n",
       "    }\n",
       "\n",
       "    .dataframe thead th {\n",
       "        text-align: right;\n",
       "    }\n",
       "</style>\n",
       "<table border=\"1\" class=\"dataframe\">\n",
       "  <thead>\n",
       "    <tr style=\"text-align: right;\">\n",
       "      <th></th>\n",
       "      <th>Linha_Cod</th>\n",
       "      <th>Linha</th>\n",
       "      <th>Tipo</th>\n",
       "      <th>Estacao_Cod</th>\n",
       "      <th>Estacao</th>\n",
       "      <th>Latitude</th>\n",
       "      <th>Longitude</th>\n",
       "      <th>Estacao_Prox_Cod</th>\n",
       "      <th>Estacao_Prox</th>\n",
       "      <th>Estacao_Prox_Dist</th>\n",
       "      <th>Estacao_Ant_Cod</th>\n",
       "      <th>Estacao_Ant</th>\n",
       "      <th>Estacao_Ant_Dist</th>\n",
       "    </tr>\n",
       "  </thead>\n",
       "  <tbody>\n",
       "    <tr>\n",
       "      <th>0</th>\n",
       "      <td>1</td>\n",
       "      <td>Azul</td>\n",
       "      <td>Metro</td>\n",
       "      <td>1.0</td>\n",
       "      <td>Tucuruvi</td>\n",
       "      <td>-23.480511</td>\n",
       "      <td>-46.603704</td>\n",
       "      <td>2.0</td>\n",
       "      <td>Parada Inglesa</td>\n",
       "      <td>1311</td>\n",
       "      <td>NaN</td>\n",
       "      <td>NaN</td>\n",
       "      <td>0</td>\n",
       "    </tr>\n",
       "    <tr>\n",
       "      <th>1</th>\n",
       "      <td>1</td>\n",
       "      <td>Azul</td>\n",
       "      <td>Metro</td>\n",
       "      <td>2.0</td>\n",
       "      <td>Parada Inglesa</td>\n",
       "      <td>-23.486943</td>\n",
       "      <td>-46.608831</td>\n",
       "      <td>3.0</td>\n",
       "      <td>Jardim São Paulo-Ayrton Senna</td>\n",
       "      <td>1746</td>\n",
       "      <td>1.0</td>\n",
       "      <td>Tucuruvi</td>\n",
       "      <td>1311</td>\n",
       "    </tr>\n",
       "    <tr>\n",
       "      <th>2</th>\n",
       "      <td>1</td>\n",
       "      <td>Azul</td>\n",
       "      <td>Metro</td>\n",
       "      <td>3.0</td>\n",
       "      <td>Jardim São Paulo-Ayrton Senna</td>\n",
       "      <td>-23.492287</td>\n",
       "      <td>-46.616664</td>\n",
       "      <td>4.0</td>\n",
       "      <td>Santana</td>\n",
       "      <td>1954</td>\n",
       "      <td>2.0</td>\n",
       "      <td>Parada Inglesa</td>\n",
       "      <td>1746</td>\n",
       "    </tr>\n",
       "    <tr>\n",
       "      <th>3</th>\n",
       "      <td>1</td>\n",
       "      <td>Azul</td>\n",
       "      <td>Metro</td>\n",
       "      <td>4.0</td>\n",
       "      <td>Santana</td>\n",
       "      <td>-23.502591</td>\n",
       "      <td>-46.624743</td>\n",
       "      <td>5.0</td>\n",
       "      <td>Carandiru</td>\n",
       "      <td>730</td>\n",
       "      <td>3.0</td>\n",
       "      <td>Jardim São Paulo-Ayrton Senna</td>\n",
       "      <td>1954</td>\n",
       "    </tr>\n",
       "    <tr>\n",
       "      <th>4</th>\n",
       "      <td>1</td>\n",
       "      <td>Azul</td>\n",
       "      <td>Metro</td>\n",
       "      <td>5.0</td>\n",
       "      <td>Carandiru</td>\n",
       "      <td>-23.509149</td>\n",
       "      <td>-46.624937</td>\n",
       "      <td>6.0</td>\n",
       "      <td>Portuguesa-Tietê</td>\n",
       "      <td>1177</td>\n",
       "      <td>4.0</td>\n",
       "      <td>Santana</td>\n",
       "      <td>730</td>\n",
       "    </tr>\n",
       "  </tbody>\n",
       "</table>\n",
       "</div>"
      ],
      "text/plain": [
       "   Linha_Cod Linha   Tipo  Estacao_Cod                        Estacao  \\\n",
       "0          1  Azul  Metro          1.0                       Tucuruvi   \n",
       "1          1  Azul  Metro          2.0                 Parada Inglesa   \n",
       "2          1  Azul  Metro          3.0  Jardim São Paulo-Ayrton Senna   \n",
       "3          1  Azul  Metro          4.0                        Santana   \n",
       "4          1  Azul  Metro          5.0                      Carandiru   \n",
       "\n",
       "    Latitude  Longitude  Estacao_Prox_Cod                   Estacao_Prox  \\\n",
       "0 -23.480511 -46.603704               2.0                 Parada Inglesa   \n",
       "1 -23.486943 -46.608831               3.0  Jardim São Paulo-Ayrton Senna   \n",
       "2 -23.492287 -46.616664               4.0                        Santana   \n",
       "3 -23.502591 -46.624743               5.0                      Carandiru   \n",
       "4 -23.509149 -46.624937               6.0               Portuguesa-Tietê   \n",
       "\n",
       "   Estacao_Prox_Dist  Estacao_Ant_Cod                    Estacao_Ant  \\\n",
       "0               1311              NaN                            NaN   \n",
       "1               1746              1.0                       Tucuruvi   \n",
       "2               1954              2.0                 Parada Inglesa   \n",
       "3                730              3.0  Jardim São Paulo-Ayrton Senna   \n",
       "4               1177              4.0                        Santana   \n",
       "\n",
       "   Estacao_Ant_Dist  \n",
       "0                 0  \n",
       "1              1311  \n",
       "2              1746  \n",
       "3              1954  \n",
       "4               730  "
      ]
     },
     "execution_count": 3,
     "metadata": {},
     "output_type": "execute_result"
    }
   ],
   "source": [
    "# Carrega o arquivo com as linhas e suas respectivas estações\n",
    "CAMINHO_ARQUIVO = '../Base de dados/lista_linhas_estacoes_sp.xlsx'\n",
    "DATAFRAME = pd.read_excel(CAMINHO_ARQUIVO)\n",
    "DATAFRAME.head()"
   ]
  },
  {
   "cell_type": "markdown",
   "metadata": {},
   "source": [
    "### **Estações**\n",
    "\n",
    "Para essa validação foram escolhidos as estações São Caetano do Sul da Linha 10 - Turquesa e a Berrini da Linha 9 - Esmeralda."
   ]
  },
  {
   "cell_type": "code",
   "execution_count": 4,
   "metadata": {},
   "outputs": [],
   "source": [
    "# Inicializa as estações de início e fim\n",
    "ESTACAO_INICIO = 'São Caetano do Sul'\n",
    "ESTACAO_FINAL = 'Berrini'"
   ]
  },
  {
   "cell_type": "markdown",
   "metadata": {},
   "source": [
    "### **Cenários Convencionais**\n",
    "\n",
    "Atualmente temos dois cenário convencionais para validar a menor distância entre duas estações, através do Mapa Metropolitano de São Paulo e através do Google Maps."
   ]
  },
  {
   "cell_type": "markdown",
   "metadata": {},
   "source": [
    "**Mapa Metropolitano de São Paulo**\n",
    "\n",
    "![Mapa do Transporte Metropolitano](../Imagem/mapa_metro.png)"
   ]
  },
  {
   "cell_type": "markdown",
   "metadata": {},
   "source": [
    "Olhando diretamente no mapa metropolitano de São Paulo, pensando em uma menor rota entre as duas estações, foi selecionado o percurso com a menor quantidade de estações, que seriam 17 estações no total."
   ]
  },
  {
   "cell_type": "code",
   "execution_count": 5,
   "metadata": {},
   "outputs": [
    {
     "name": "stdout",
     "output_type": "stream",
     "text": [
      "['São Caetano do Sul', 'Tamanduateí', 'Ipiranga', 'Juventus-Mooca', 'Brás', 'Luz', 'República', 'Higienópolis-Mackenzie', 'Paulista', 'Oscar Freire', 'Fradique Coutinho', 'Faria Lima', 'Pinheiros', 'Hebraica-Rebouças', 'Cidade Jardim', 'Vila Olímpia', 'Berrini']\n"
     ]
    }
   ],
   "source": [
    "estacoes_mapa_metropolitano = ['São Caetano do Sul', 'Tamanduateí', 'Ipiranga', 'Juventus-Mooca', 'Brás', 'Luz', 'República', 'Higienópolis-Mackenzie', 'Paulista', 'Oscar Freire', \n",
    "                               'Fradique Coutinho', 'Faria Lima', 'Pinheiros', 'Hebraica-Rebouças', 'Cidade Jardim', 'Vila Olímpia', 'Berrini']\n",
    "\n",
    "print(estacoes_mapa_metropolitano)"
   ]
  },
  {
   "cell_type": "markdown",
   "metadata": {},
   "source": [
    "**Google Maps**\n",
    "\n",
    "![Google Maps](../Imagem/mapa_google.png)"
   ]
  },
  {
   "cell_type": "markdown",
   "metadata": {},
   "source": [
    "Utilizando o Google Maps para traçar uma rota entre as duas estações foi retornada uma rota exatamente a que foi visualizada diretamente no mapa, dando também um total de 17 estações."
   ]
  },
  {
   "cell_type": "code",
   "execution_count": 6,
   "metadata": {},
   "outputs": [
    {
     "name": "stdout",
     "output_type": "stream",
     "text": [
      "['São Caetano do Sul', 'Tamanduateí', 'Ipiranga', 'Juventus-Mooca', 'Brás', 'Luz', 'República', 'Higienópolis-Mackenzie', 'Paulista', 'Oscar Freire', 'Fradique Coutinho', 'Faria Lima', 'Pinheiros', 'Hebraica-Rebouças', 'Cidade Jardim', 'Vila Olímpia', 'Berrini']\n"
     ]
    }
   ],
   "source": [
    "estacoes_google_maps = ['São Caetano do Sul', 'Tamanduateí', 'Ipiranga', 'Juventus-Mooca', 'Brás', 'Luz', 'República', 'Higienópolis-Mackenzie', 'Paulista', 'Oscar Freire', \n",
    "                        'Fradique Coutinho', 'Faria Lima', 'Pinheiros', 'Hebraica-Rebouças', 'Cidade Jardim', 'Vila Olímpia', 'Berrini']\n",
    "\n",
    "print(estacoes_google_maps)"
   ]
  },
  {
   "cell_type": "markdown",
   "metadata": {},
   "source": [
    "### **Funções de apoio**"
   ]
  },
  {
   "cell_type": "markdown",
   "metadata": {},
   "source": [
    "**procurar_estacoes_proximas**\n",
    "\n",
    "Função utilizada para retornar quais são as estações próximas da estação enviada por parâmetro, é utilizado o DataFrame para recuperar o nome da estação e a distância."
   ]
  },
  {
   "cell_type": "code",
   "execution_count": 7,
   "metadata": {},
   "outputs": [],
   "source": [
    "# Função que encontra as estações próximas\n",
    "def procurar_estacoes_proximas(linha, estacao):\n",
    "    # Carregar o DATAFRAME com as informações de linhas e estações\n",
    "    linhas_estacoes_df = DATAFRAME\n",
    "\n",
    "    estacoes_proximas = []\n",
    "    \n",
    "    # Encontrar a linha\n",
    "    linha_df = linhas_estacoes_df[linhas_estacoes_df['Linha'] == linha]\n",
    "\n",
    "    # Encontrar a estação\n",
    "    estacao_df = linha_df[linha_df['Estacao'] == estacao]\n",
    "\n",
    "    # Encontrar as estações próximas/anteriores e suas distâncias\n",
    "    estacao_proxima = estacao_df['Estacao_Prox'].values[0]\n",
    "    estacao_prox_dist = estacao_df['Estacao_Prox_Dist'].values[0]\n",
    "    estacao_prox_linha = estacao_df['Linha'].values[0]\n",
    "\n",
    "    estacao_anterior = estacao_df['Estacao_Ant'].values[0]\n",
    "    estacao_ant_dist = estacao_df['Estacao_Ant_Dist'].values[0]\n",
    "    estacao_ant_linha = estacao_df['Linha'].values[0]\n",
    "\n",
    "    # Adicionar as estações próximas/anteriores à lista\n",
    "    estacoes_proximas.append((estacao_proxima, estacao_prox_dist, estacao_prox_linha))\n",
    "    estacoes_proximas.append((estacao_anterior, estacao_ant_dist, estacao_ant_linha))\n",
    "\n",
    "    return estacoes_proximas"
   ]
  },
  {
   "cell_type": "markdown",
   "metadata": {},
   "source": [
    "**procurar_integracoes**\n",
    "\n",
    "Função utilizada para retornar quais são as linhas de integração que a estação possui."
   ]
  },
  {
   "cell_type": "code",
   "execution_count": 8,
   "metadata": {},
   "outputs": [],
   "source": [
    "# Função que encontra a integração que a estação possui\n",
    "def procurar_integracoes(estacao):\n",
    "    # Carregar o DATAFRAME com as informações de linhas e estações\n",
    "    linhas_estacoes_df = DATAFRAME\n",
    "\n",
    "    integracoes = []\n",
    "\n",
    "    # Encontrar as integrações\n",
    "    estacoes_integracao = linhas_estacoes_df[(linhas_estacoes_df['Estacao'] == estacao)]\n",
    "\n",
    "    # Adicionar as integrações à lista\n",
    "    for i, linha in estacoes_integracao.iterrows():\n",
    "        integracoes.append((linha['Linha']))\n",
    "\n",
    "    return integracoes"
   ]
  },
  {
   "cell_type": "markdown",
   "metadata": {},
   "source": [
    "**procurar_integracoes_viagem**\n",
    "\n",
    "Função utilizada para retornar quais são as linhas em que uma viagem completa passa."
   ]
  },
  {
   "cell_type": "code",
   "execution_count": 9,
   "metadata": {},
   "outputs": [],
   "source": [
    "# Função que encontra todas as linhas que uma viagem pode passar\n",
    "def procurar_integracoes_viagem(viagem):\n",
    "    # Carregar o DATAFRAME com as informações de linhas e estações\n",
    "    linhas_estacoes_df = DATAFRAME\n",
    "\n",
    "    linhas_viagem = []\n",
    "\n",
    "    # Encontrar as linhas que a viagem pode passar\n",
    "    for i in range(len(viagem) - 1):\n",
    "        # Validar qual a estação atual\n",
    "        estacao_atual = viagem[i]\n",
    "\n",
    "        # Encontrar a linha\n",
    "        linha_df = linhas_estacoes_df[(linhas_estacoes_df['Estacao'] == estacao_atual)]\n",
    "\n",
    "        # Adicionar a linha à lista\n",
    "        for i, linha in linha_df.iterrows():\n",
    "            if linha['Linha'] not in linhas_viagem:\n",
    "                linhas_viagem.append((linha['Linha']))\n",
    "\n",
    "    return linhas_viagem"
   ]
  },
  {
   "cell_type": "markdown",
   "metadata": {},
   "source": [
    "**criar_nova_rota**\n",
    "\n",
    "Função utilizada para retornar uma nova rota criada a partir de uma estação inicial até uma estação final."
   ]
  },
  {
   "cell_type": "code",
   "execution_count": 10,
   "metadata": {},
   "outputs": [],
   "source": [
    "# Função para criar uma nova rota\n",
    "def cria_nova_rota(rota, estacao_atual, estacao_final):\n",
    "    estacao_anterior = estacao_atual\n",
    "\n",
    "    while estacao_atual != estacao_final:\n",
    "        # Encontrar as integrações\n",
    "        integracoes = procurar_integracoes(estacao_atual)\n",
    "\n",
    "        # Se a estação possuir integrações, encontrar as estações próximas\n",
    "        if len(integracoes) > 0:\n",
    "            estacoes_proximas = []\n",
    "\n",
    "            while len(estacoes_proximas) <= 1:\n",
    "                # Encontra uma linha de forma aleatória\n",
    "                linha = random.choice(integracoes)\n",
    "\n",
    "                # Encontrar as estações próximas\n",
    "                estacoes_proximas = procurar_estacoes_proximas(linha, estacao_atual)\n",
    "\n",
    "            estacao_valida = False\n",
    "\n",
    "            # Enquanto a estação não for válida\n",
    "            while (estacao_valida == False):\n",
    "                estacao_proxima = random.choice(estacoes_proximas)\n",
    "                possui_nan = pd.isnull(estacao_proxima[0])\n",
    "\n",
    "                if possui_nan == False:\n",
    "                    if estacao_anterior != estacao_proxima[0]:\n",
    "                        estacao_valida = True\n",
    "                else:\n",
    "                    estacoes_proximas.remove(estacao_proxima)\n",
    "                    estacao_proxima = random.choice(estacoes_proximas)\n",
    "                    estacao_valida = True\n",
    "\n",
    "            # Adicionar a estação próxima\n",
    "            rota.append(estacao_proxima[0])\n",
    "\n",
    "            # Atualizar a estação atual e anterior\n",
    "            estacao_anterior = estacao_atual\n",
    "            estacao_atual = estacao_proxima[0]\n",
    "\n",
    "    return rota"
   ]
  },
  {
   "cell_type": "markdown",
   "metadata": {},
   "source": [
    "**calcular_distancia_entre_estacoes**\n",
    "\n",
    "Função que retorna a distância entre duas estações."
   ]
  },
  {
   "cell_type": "code",
   "execution_count": 11,
   "metadata": {},
   "outputs": [],
   "source": [
    "# Calcular a distância entre duas estações\n",
    "def calcular_distancia_entre_estacoes(estacao_atual, estacao_prox):\n",
    "    # Carregar o DATAFRAME com as informações de linhas e estações\n",
    "    linhas_estacoes_df = DATAFRAME\n",
    "\n",
    "    # Encontrar as informações da estação atual, estação próxima e estação anterior\n",
    "    estacao_atual_df = linhas_estacoes_df[linhas_estacoes_df['Estacao'] == estacao_atual]\n",
    "    estacao_prox_df = estacao_atual_df[estacao_atual_df['Estacao_Prox'] == estacao_prox]\n",
    "    estacao_ant_df = estacao_atual_df[estacao_atual_df['Estacao_Ant'] == estacao_prox]\n",
    "    \n",
    "    # Encontrar a distância entre as estações\n",
    "    if not estacao_prox_df.empty:\n",
    "        distancia = estacao_prox_df['Estacao_Prox_Dist'].values[0]\n",
    "    elif not estacao_ant_df.empty:\n",
    "        distancia = estacao_ant_df['Estacao_Ant_Dist'].values[0]\n",
    "    else:\n",
    "        distancia = 0\n",
    "\n",
    "    return distancia"
   ]
  },
  {
   "cell_type": "markdown",
   "metadata": {},
   "source": [
    "### **População Inicial**\n",
    "\n",
    "A população inicial vai ser gerada de acordo com o tamanho da população. Cada rota vai ser criada a partir da função 'cria_nova_rota' e a estação de início e final sempre vai ser as que foram enviadas por parâmetro."
   ]
  },
  {
   "cell_type": "code",
   "execution_count": 12,
   "metadata": {},
   "outputs": [],
   "source": [
    "# Gerar a população inicial de soluções\n",
    "def gerar_populacao_inicial(estacao_inicial, estacao_final, tamanho_populacao):\n",
    "    populacao = []\n",
    "\n",
    "    for i in range(tamanho_populacao):\n",
    "        rota = []\n",
    "\n",
    "        # Inicializar a estação atual\n",
    "        estacao_atual = estacao_inicial\n",
    "\n",
    "        # Adicionar a estação inicial\n",
    "        rota.append(estacao_inicial)\n",
    "\n",
    "        # Criar a rota\n",
    "        rota_criada = cria_nova_rota(rota, estacao_atual, estacao_final)\n",
    "\n",
    "        # Adicionar a rota à população\n",
    "        populacao.append(rota_criada)\n",
    "\n",
    "    return populacao"
   ]
  },
  {
   "cell_type": "markdown",
   "metadata": {},
   "source": [
    "### **Função de Aptidão (Fitness)**\n",
    "\n",
    "O cálculo da aptidão (fitness) vai ser a distância total entre todas as estações da rota."
   ]
  },
  {
   "cell_type": "code",
   "execution_count": 13,
   "metadata": {},
   "outputs": [],
   "source": [
    "# Avaliação de aptidão da população\n",
    "def calcular_fitness(estacoes):\n",
    "    distancia_total = 0\n",
    "\n",
    "    # Calcular a distância total da rota\n",
    "    for i in range(len(estacoes) - 1):\n",
    "        # Calcular a distância entre as estações\n",
    "        distancia = calcular_distancia_entre_estacoes(estacoes[i], estacoes[i + 1])\n",
    "        distancia_total += distancia\n",
    "\n",
    "    return distancia_total"
   ]
  },
  {
   "cell_type": "markdown",
   "metadata": {},
   "source": [
    "### **Condição de Término**\n",
    "\n",
    "A condição de término vai ser através do número máximo de gerações."
   ]
  },
  {
   "cell_type": "code",
   "execution_count": 14,
   "metadata": {},
   "outputs": [],
   "source": [
    "# Verificar a condição de término por número máximo de gerações\n",
    "def verificar_condicao_termino(geracao_atual, geracoes_max):\n",
    "    if geracao_atual >= geracoes_max:\n",
    "        return True\n",
    "    else:\n",
    "        return False"
   ]
  },
  {
   "cell_type": "markdown",
   "metadata": {},
   "source": [
    "### **Seleção**\n",
    "\n",
    "O método de seleção escolhido será através do torneio. Vão ser selecionados individuos de acordo com a quantidade passada por parâmetro e, desses individuos, será selecionado 2 para o torneio sendo o vencedor quem possuir a menor aptidão (fitness)."
   ]
  },
  {
   "cell_type": "code",
   "execution_count": 15,
   "metadata": {},
   "outputs": [],
   "source": [
    "# Seleção dos pais através de torneio\n",
    "def selecao_torneio(populacao, aptidao, num_selecionados):\n",
    "    populacao_selecionada = []\n",
    "\n",
    "    # Selecionar os indivíduos\n",
    "    for i in range(num_selecionados):\n",
    "        # Selecionar dois indivíduos aleatórios\n",
    "        individuo1 = random.randint(0, len(populacao) - 1)\n",
    "        individuo2 = random.randint(0, len(populacao) - 1)\n",
    "\n",
    "        # Verificar qual indivíduo tem a melhor aptidão\n",
    "        if aptidao[individuo1] < aptidao[individuo2]:\n",
    "            populacao_selecionada.append(populacao[individuo1])\n",
    "        else:\n",
    "            populacao_selecionada.append(populacao[individuo2])\n",
    "\n",
    "    return populacao_selecionada"
   ]
  },
  {
   "cell_type": "markdown",
   "metadata": {},
   "source": [
    "### **Cruzamento**\n",
    "\n",
    "O cruzamento será feito escolhendo uma estação em comum entre os dois pais, a partir desta estação será pego o início da rota do pai1 até a estação em comum e da estação em comum até o final da rota do pai2, gerando assim o filho."
   ]
  },
  {
   "cell_type": "code",
   "execution_count": 16,
   "metadata": {},
   "outputs": [],
   "source": [
    "# Cruzamento dos pais para gerar os filhos\n",
    "def cruzamento(pai1, pai2):\n",
    "    linhas_estacoes_df = DATAFRAME\n",
    "\n",
    "    # Encontrar as estações em comum entre os pais\n",
    "    estacao_comum = list(set(pai1) & set(pai2))\n",
    "\n",
    "    # Encontrar as linhas em comum entre os pais\n",
    "    linhas_comum = procurar_integracoes_viagem(estacao_comum)\n",
    "\n",
    "    # Escolher uma linha em comum aleatória\n",
    "    linha = random.choice(linhas_comum)\n",
    "\n",
    "    # Escolher uma estação comum aleatória que esteja na linha comum escolhida\n",
    "    estacao_linha_comum_df = linhas_estacoes_df[(linhas_estacoes_df['Linha'] == linha) & (linhas_estacoes_df['Estacao'].isin(estacao_comum))]\n",
    "\n",
    "    estacao_comum = random.choice(estacao_linha_comum_df['Estacao'].values)\n",
    "\n",
    "    # Gerar o filho\n",
    "    filho = []\n",
    "\n",
    "    for i in range(len(pai1)):\n",
    "        # Desconsiderando a primeira estação e a última estação, gera o filho com a estação comum\n",
    "        if (pai1[i] == estacao_comum):\n",
    "            filho += pai1[:i]\n",
    "\n",
    "            break\n",
    "\n",
    "    for i in range(len(pai2)):\n",
    "        # Desconsiderando a primeira estação e a última estação, gera o filho com a estação comum\n",
    "        if (pai2[i] == estacao_comum):\n",
    "            filho += pai2[i:]\n",
    "\n",
    "            break\n",
    "\n",
    "    return filho"
   ]
  },
  {
   "cell_type": "markdown",
   "metadata": {},
   "source": [
    "### **Mutação**\n",
    "\n",
    "Para a mutação será escolhido, de forma aleatória, uma estação onde será feito um corte. A partir deste corte será gerado uma nova rota até a estação final."
   ]
  },
  {
   "cell_type": "code",
   "execution_count": 17,
   "metadata": {},
   "outputs": [],
   "source": [
    "# Mutação de um indivíduo\n",
    "def mutacao(rota, taxa_mutacao):\n",
    "    if random.random() < taxa_mutacao:\n",
    "        # Escolhe uma estação aleatória da rota que não seja a primeira ou a última.\n",
    "        while True:\n",
    "            # Recupera a estação\n",
    "            estacao = random.choice(rota)\n",
    "\n",
    "            # Valida o indice da estação\n",
    "            indice_estacao = rota.index(estacao)\n",
    "\n",
    "            # Valida se se o indice não é o primeiro ou o último\n",
    "            if indice_estacao != 0 and indice_estacao != len(rota) - 1:\n",
    "                break\n",
    "\n",
    "        # Com a escolha da estação cria a nova rota\n",
    "        rota_mutada = []\n",
    "\n",
    "        # Valide o indice da estação onde será feito o corte\n",
    "        indice_corte = rota.index(estacao)\n",
    "\n",
    "        # Realiza o corte na rota\n",
    "        rota_mutada = rota[:indice_corte + 1]\n",
    "\n",
    "        # Valida qual é a estação final da rota\n",
    "        estacao_final = rota[-1]\n",
    "\n",
    "        # Recupera a última estação da nova rota para ser a atual\n",
    "        estacao_atual = rota_mutada[-1]\n",
    "\n",
    "        # Cria a nova rota\n",
    "        rota_criada = cria_nova_rota(rota_mutada, estacao_atual, estacao_final)\n",
    "    else:\n",
    "        rota_criada = rota\n",
    "\n",
    "    return rota_criada"
   ]
  },
  {
   "cell_type": "markdown",
   "metadata": {},
   "source": [
    "### **Substituição da População**\n",
    "\n",
    "Para substituir a população será criado uma nova mantendo o individuo com a melhor aptidão (fitness) e o restante será gerado através da seleção dos pais, o cruzamento para gerar o filho e a mutação deste filho."
   ]
  },
  {
   "cell_type": "markdown",
   "metadata": {},
   "source": [
    "**ordenar_populacao**\n",
    "\n",
    "Função que retorna a ordenação da população baseado no valor de aptidão (fitness)."
   ]
  },
  {
   "cell_type": "code",
   "execution_count": 18,
   "metadata": {},
   "outputs": [],
   "source": [
    "# Ordenação da população baseado no valor de aptidão (fitness)\n",
    "def ordenar_populacao(populacao):\n",
    "    # Ordenar a população baseado no valor de aptidão\n",
    "    populacao_ordenada = sorted(populacao, key=lambda x: calcular_fitness(x))\n",
    "\n",
    "    # Calcular a aptidão da população ordenada\n",
    "    aptidao_ordenada = [calcular_fitness(x) for x in populacao_ordenada]\n",
    "\n",
    "    return populacao_ordenada, aptidao_ordenada"
   ]
  },
  {
   "cell_type": "code",
   "execution_count": 19,
   "metadata": {},
   "outputs": [],
   "source": [
    "# Substituição da população utilizando elitismo\n",
    "def substituir_populacao(populacao, num_selecionados_torneio, taxa_mutacao):\n",
    "    # Ordena a população\n",
    "    populacao_ordenada, aptidao_ordenada = ordenar_populacao(populacao)\n",
    "\n",
    "    # Seleciona o melhor indivíduo\n",
    "    nova_populacao = [populacao_ordenada[0]]\n",
    "\n",
    "    # Realiza a seleção dos pais, cruzamento e mutação\n",
    "    while len(nova_populacao) < len(populacao):\n",
    "        # Seleciona os pais\n",
    "        pais = selecao_torneio(populacao_ordenada, aptidao_ordenada, num_selecionados_torneio)\n",
    "\n",
    "        # Cruzamento\n",
    "        filho = cruzamento(pais[0], pais[1])\n",
    "\n",
    "        # Mutação\n",
    "        filho_mutado = mutacao(filho, taxa_mutacao)\n",
    "\n",
    "        # Adiciona o filho mutado à nova população\n",
    "        nova_populacao.append(filho_mutado)\n",
    "\n",
    "    return nova_populacao"
   ]
  },
  {
   "cell_type": "markdown",
   "metadata": {},
   "source": [
    "### **Algoritmo Genético**\n",
    "\n",
    "O Algoritmo Genético com a implementação de contagem das gerações e retorno da melhor solução/aptidão utilizando os seguintes passos:\n",
    "- Gerar população inicial\n",
    "- Ordenação da população (Elitismo)\n",
    "- Verificação da condição de término\n",
    "- Substituição da população utilizando a seleção por torneio, cruzamento e mutação."
   ]
  },
  {
   "cell_type": "code",
   "execution_count": 20,
   "metadata": {},
   "outputs": [],
   "source": [
    "# Algoritmo genético\n",
    "def algoritmo_genetico(estacao_inicio, estacao_final, max_geracoes, tam_populacao):\n",
    "    # Gera a população inicial\n",
    "    populacao = gerar_populacao_inicial(estacao_inicio, estacao_final, tam_populacao)\n",
    "\n",
    "    melhor_valor_aptidao = []\n",
    "    melhor_solucao = []\n",
    "\n",
    "    # Realiza as gerações do algoritmo genético até a condição de término\n",
    "    for geracao in range(max_geracoes):\n",
    "        # Ordena a população (Elitismo)\n",
    "        populacao_ordenada, aptidao_ordenada = ordenar_populacao(populacao)\n",
    "\n",
    "        # Adiciona o melhor valor de aptidão e a melhor solução\n",
    "        melhor_valor_aptidao.append(aptidao_ordenada[0])\n",
    "        melhor_solucao.append(populacao_ordenada[0])\n",
    "\n",
    "        print(f'Geração {geracao + 1} - Melhor valor de aptidão: {aptidao_ordenada[0]} - Melhor solução: {populacao_ordenada[0]}')\n",
    "\n",
    "        # Verifica a condição de término\n",
    "        if verificar_condicao_termino(geracao, max_geracoes):\n",
    "            break\n",
    "        else:\n",
    "            # Substitui a população\n",
    "            nova_populacao = substituir_populacao(populacao, 2, 0.2)\n",
    "\n",
    "            populacao = nova_populacao\n",
    "\n",
    "    # Encontra a melhor solução e a melhor distância\n",
    "    melhor_solucao_geral = melhor_solucao[np.argmin(melhor_valor_aptidao)]\n",
    "    melhor_distancia = min(melhor_valor_aptidao)\n",
    "\n",
    "    # Transformar a distância em kilômetros\n",
    "    melhor_distancia = melhor_distancia / 1000\n",
    "\n",
    "    return melhor_solucao_geral, melhor_distancia"
   ]
  },
  {
   "cell_type": "markdown",
   "metadata": {},
   "source": [
    "### **Usabilidade**"
   ]
  },
  {
   "cell_type": "code",
   "execution_count": 34,
   "metadata": {},
   "outputs": [],
   "source": [
    "# Inícia as variaveis do algoritmo genético\n",
    "NUM_GERACOES = 100\n",
    "TAM_POPULACAO = 25"
   ]
  },
  {
   "cell_type": "code",
   "execution_count": 35,
   "metadata": {},
   "outputs": [
    {
     "name": "stdout",
     "output_type": "stream",
     "text": [
      "Geração 1 - Melhor valor de aptidão: 65402 - Melhor solução: ['São Caetano do Sul', 'Tamanduateí', 'Sacomã', 'Alto do Ipiranga', 'Santos-Imigrantes', 'Chácara Klabin', 'Ana Rosa', 'Paraíso', 'Vergueiro', 'São Joaquim', 'Japão-Liberdade', 'Sé', 'São Bento', 'Luz', 'República', 'Anhangabaú', 'Sé', 'Japão-Liberdade', 'São Joaquim', 'Vergueiro', 'Paraíso', 'Brigadeiro', 'Trianon-Masp', 'Consolação', 'Clínicas', 'Sumaré', 'Vila Madalena', 'Sumaré', 'Clínicas', 'Consolação', 'Paulista', 'Oscar Freire', 'Fradique Coutinho', 'Faria Lima', 'Pinheiros', 'Hebraica-Rebouças', 'Cidade Jardim', 'Vila Olímpia', 'Berrini']\n",
      "Geração 2 - Melhor valor de aptidão: 51409 - Melhor solução: ['São Caetano do Sul', 'Tamanduateí', 'Sacomã', 'Alto do Ipiranga', 'Santos-Imigrantes', 'Chácara Klabin', 'Santa Cruz', 'Hospital São Paulo', 'AACD-Servidor', 'Moema', 'Eucaliptos', 'Campo Belo', 'Brooklin', 'Borba Gato', 'Alto da Boa Vista', 'Adolfo Pinheiro', 'Largo Treze', 'Santo Amaro', 'João Dias', 'Granja Julieta', 'Morumbi', 'Berrini']\n",
      "Geração 3 - Melhor valor de aptidão: 51409 - Melhor solução: ['São Caetano do Sul', 'Tamanduateí', 'Sacomã', 'Alto do Ipiranga', 'Santos-Imigrantes', 'Chácara Klabin', 'Santa Cruz', 'Hospital São Paulo', 'AACD-Servidor', 'Moema', 'Eucaliptos', 'Campo Belo', 'Brooklin', 'Borba Gato', 'Alto da Boa Vista', 'Adolfo Pinheiro', 'Largo Treze', 'Santo Amaro', 'João Dias', 'Granja Julieta', 'Morumbi', 'Berrini']\n",
      "Geração 4 - Melhor valor de aptidão: 51409 - Melhor solução: ['São Caetano do Sul', 'Tamanduateí', 'Sacomã', 'Alto do Ipiranga', 'Santos-Imigrantes', 'Chácara Klabin', 'Santa Cruz', 'Hospital São Paulo', 'AACD-Servidor', 'Moema', 'Eucaliptos', 'Campo Belo', 'Brooklin', 'Borba Gato', 'Alto da Boa Vista', 'Adolfo Pinheiro', 'Largo Treze', 'Santo Amaro', 'João Dias', 'Granja Julieta', 'Morumbi', 'Berrini']\n",
      "Geração 5 - Melhor valor de aptidão: 46107 - Melhor solução: ['São Caetano do Sul', 'Tamanduateí', 'Sacomã', 'Alto do Ipiranga', 'Santos-Imigrantes', 'Chácara Klabin', 'Ana Rosa', 'Paraíso', 'Brigadeiro', 'Trianon-Masp', 'Consolação', 'Clínicas', 'Sumaré', 'Vila Madalena', 'Sumaré', 'Clínicas', 'Consolação', 'Paulista', 'Oscar Freire', 'Fradique Coutinho', 'Faria Lima', 'Pinheiros', 'Hebraica-Rebouças', 'Cidade Jardim', 'Vila Olímpia', 'Berrini']\n",
      "Geração 6 - Melhor valor de aptidão: 46107 - Melhor solução: ['São Caetano do Sul', 'Tamanduateí', 'Sacomã', 'Alto do Ipiranga', 'Santos-Imigrantes', 'Chácara Klabin', 'Ana Rosa', 'Paraíso', 'Brigadeiro', 'Trianon-Masp', 'Consolação', 'Clínicas', 'Sumaré', 'Vila Madalena', 'Sumaré', 'Clínicas', 'Consolação', 'Paulista', 'Oscar Freire', 'Fradique Coutinho', 'Faria Lima', 'Pinheiros', 'Hebraica-Rebouças', 'Cidade Jardim', 'Vila Olímpia', 'Berrini']\n",
      "Geração 7 - Melhor valor de aptidão: 46107 - Melhor solução: ['São Caetano do Sul', 'Tamanduateí', 'Sacomã', 'Alto do Ipiranga', 'Santos-Imigrantes', 'Chácara Klabin', 'Ana Rosa', 'Paraíso', 'Brigadeiro', 'Trianon-Masp', 'Consolação', 'Clínicas', 'Sumaré', 'Vila Madalena', 'Sumaré', 'Clínicas', 'Consolação', 'Paulista', 'Oscar Freire', 'Fradique Coutinho', 'Faria Lima', 'Pinheiros', 'Hebraica-Rebouças', 'Cidade Jardim', 'Vila Olímpia', 'Berrini']\n",
      "Geração 8 - Melhor valor de aptidão: 46107 - Melhor solução: ['São Caetano do Sul', 'Tamanduateí', 'Sacomã', 'Alto do Ipiranga', 'Santos-Imigrantes', 'Chácara Klabin', 'Ana Rosa', 'Paraíso', 'Brigadeiro', 'Trianon-Masp', 'Consolação', 'Clínicas', 'Sumaré', 'Vila Madalena', 'Sumaré', 'Clínicas', 'Consolação', 'Paulista', 'Oscar Freire', 'Fradique Coutinho', 'Faria Lima', 'Pinheiros', 'Hebraica-Rebouças', 'Cidade Jardim', 'Vila Olímpia', 'Berrini']\n",
      "Geração 9 - Melhor valor de aptidão: 46107 - Melhor solução: ['São Caetano do Sul', 'Tamanduateí', 'Sacomã', 'Alto do Ipiranga', 'Santos-Imigrantes', 'Chácara Klabin', 'Ana Rosa', 'Paraíso', 'Brigadeiro', 'Trianon-Masp', 'Consolação', 'Clínicas', 'Sumaré', 'Vila Madalena', 'Sumaré', 'Clínicas', 'Consolação', 'Paulista', 'Oscar Freire', 'Fradique Coutinho', 'Faria Lima', 'Pinheiros', 'Hebraica-Rebouças', 'Cidade Jardim', 'Vila Olímpia', 'Berrini']\n",
      "Geração 10 - Melhor valor de aptidão: 46107 - Melhor solução: ['São Caetano do Sul', 'Tamanduateí', 'Sacomã', 'Alto do Ipiranga', 'Santos-Imigrantes', 'Chácara Klabin', 'Ana Rosa', 'Paraíso', 'Brigadeiro', 'Trianon-Masp', 'Consolação', 'Clínicas', 'Sumaré', 'Vila Madalena', 'Sumaré', 'Clínicas', 'Consolação', 'Paulista', 'Oscar Freire', 'Fradique Coutinho', 'Faria Lima', 'Pinheiros', 'Hebraica-Rebouças', 'Cidade Jardim', 'Vila Olímpia', 'Berrini']\n",
      "Geração 11 - Melhor valor de aptidão: 46107 - Melhor solução: ['São Caetano do Sul', 'Tamanduateí', 'Sacomã', 'Alto do Ipiranga', 'Santos-Imigrantes', 'Chácara Klabin', 'Ana Rosa', 'Paraíso', 'Brigadeiro', 'Trianon-Masp', 'Consolação', 'Clínicas', 'Sumaré', 'Vila Madalena', 'Sumaré', 'Clínicas', 'Consolação', 'Paulista', 'Oscar Freire', 'Fradique Coutinho', 'Faria Lima', 'Pinheiros', 'Hebraica-Rebouças', 'Cidade Jardim', 'Vila Olímpia', 'Berrini']\n",
      "Geração 12 - Melhor valor de aptidão: 46107 - Melhor solução: ['São Caetano do Sul', 'Tamanduateí', 'Sacomã', 'Alto do Ipiranga', 'Santos-Imigrantes', 'Chácara Klabin', 'Ana Rosa', 'Paraíso', 'Brigadeiro', 'Trianon-Masp', 'Consolação', 'Clínicas', 'Sumaré', 'Vila Madalena', 'Sumaré', 'Clínicas', 'Consolação', 'Paulista', 'Oscar Freire', 'Fradique Coutinho', 'Faria Lima', 'Pinheiros', 'Hebraica-Rebouças', 'Cidade Jardim', 'Vila Olímpia', 'Berrini']\n",
      "Geração 13 - Melhor valor de aptidão: 46107 - Melhor solução: ['São Caetano do Sul', 'Tamanduateí', 'Sacomã', 'Alto do Ipiranga', 'Santos-Imigrantes', 'Chácara Klabin', 'Ana Rosa', 'Paraíso', 'Brigadeiro', 'Trianon-Masp', 'Consolação', 'Clínicas', 'Sumaré', 'Vila Madalena', 'Sumaré', 'Clínicas', 'Consolação', 'Paulista', 'Oscar Freire', 'Fradique Coutinho', 'Faria Lima', 'Pinheiros', 'Hebraica-Rebouças', 'Cidade Jardim', 'Vila Olímpia', 'Berrini']\n",
      "Geração 14 - Melhor valor de aptidão: 46107 - Melhor solução: ['São Caetano do Sul', 'Tamanduateí', 'Sacomã', 'Alto do Ipiranga', 'Santos-Imigrantes', 'Chácara Klabin', 'Ana Rosa', 'Paraíso', 'Brigadeiro', 'Trianon-Masp', 'Consolação', 'Clínicas', 'Sumaré', 'Vila Madalena', 'Sumaré', 'Clínicas', 'Consolação', 'Paulista', 'Oscar Freire', 'Fradique Coutinho', 'Faria Lima', 'Pinheiros', 'Hebraica-Rebouças', 'Cidade Jardim', 'Vila Olímpia', 'Berrini']\n",
      "Geração 15 - Melhor valor de aptidão: 46107 - Melhor solução: ['São Caetano do Sul', 'Tamanduateí', 'Sacomã', 'Alto do Ipiranga', 'Santos-Imigrantes', 'Chácara Klabin', 'Ana Rosa', 'Paraíso', 'Brigadeiro', 'Trianon-Masp', 'Consolação', 'Clínicas', 'Sumaré', 'Vila Madalena', 'Sumaré', 'Clínicas', 'Consolação', 'Paulista', 'Oscar Freire', 'Fradique Coutinho', 'Faria Lima', 'Pinheiros', 'Hebraica-Rebouças', 'Cidade Jardim', 'Vila Olímpia', 'Berrini']\n",
      "Geração 16 - Melhor valor de aptidão: 46107 - Melhor solução: ['São Caetano do Sul', 'Tamanduateí', 'Sacomã', 'Alto do Ipiranga', 'Santos-Imigrantes', 'Chácara Klabin', 'Ana Rosa', 'Paraíso', 'Brigadeiro', 'Trianon-Masp', 'Consolação', 'Clínicas', 'Sumaré', 'Vila Madalena', 'Sumaré', 'Clínicas', 'Consolação', 'Paulista', 'Oscar Freire', 'Fradique Coutinho', 'Faria Lima', 'Pinheiros', 'Hebraica-Rebouças', 'Cidade Jardim', 'Vila Olímpia', 'Berrini']\n",
      "Geração 17 - Melhor valor de aptidão: 46107 - Melhor solução: ['São Caetano do Sul', 'Tamanduateí', 'Sacomã', 'Alto do Ipiranga', 'Santos-Imigrantes', 'Chácara Klabin', 'Ana Rosa', 'Paraíso', 'Brigadeiro', 'Trianon-Masp', 'Consolação', 'Clínicas', 'Sumaré', 'Vila Madalena', 'Sumaré', 'Clínicas', 'Consolação', 'Paulista', 'Oscar Freire', 'Fradique Coutinho', 'Faria Lima', 'Pinheiros', 'Hebraica-Rebouças', 'Cidade Jardim', 'Vila Olímpia', 'Berrini']\n",
      "Geração 18 - Melhor valor de aptidão: 46107 - Melhor solução: ['São Caetano do Sul', 'Tamanduateí', 'Sacomã', 'Alto do Ipiranga', 'Santos-Imigrantes', 'Chácara Klabin', 'Ana Rosa', 'Paraíso', 'Brigadeiro', 'Trianon-Masp', 'Consolação', 'Clínicas', 'Sumaré', 'Vila Madalena', 'Sumaré', 'Clínicas', 'Consolação', 'Paulista', 'Oscar Freire', 'Fradique Coutinho', 'Faria Lima', 'Pinheiros', 'Hebraica-Rebouças', 'Cidade Jardim', 'Vila Olímpia', 'Berrini']\n",
      "Geração 19 - Melhor valor de aptidão: 46107 - Melhor solução: ['São Caetano do Sul', 'Tamanduateí', 'Sacomã', 'Alto do Ipiranga', 'Santos-Imigrantes', 'Chácara Klabin', 'Ana Rosa', 'Paraíso', 'Brigadeiro', 'Trianon-Masp', 'Consolação', 'Clínicas', 'Sumaré', 'Vila Madalena', 'Sumaré', 'Clínicas', 'Consolação', 'Paulista', 'Oscar Freire', 'Fradique Coutinho', 'Faria Lima', 'Pinheiros', 'Hebraica-Rebouças', 'Cidade Jardim', 'Vila Olímpia', 'Berrini']\n",
      "Geração 20 - Melhor valor de aptidão: 46107 - Melhor solução: ['São Caetano do Sul', 'Tamanduateí', 'Sacomã', 'Alto do Ipiranga', 'Santos-Imigrantes', 'Chácara Klabin', 'Ana Rosa', 'Paraíso', 'Brigadeiro', 'Trianon-Masp', 'Consolação', 'Clínicas', 'Sumaré', 'Vila Madalena', 'Sumaré', 'Clínicas', 'Consolação', 'Paulista', 'Oscar Freire', 'Fradique Coutinho', 'Faria Lima', 'Pinheiros', 'Hebraica-Rebouças', 'Cidade Jardim', 'Vila Olímpia', 'Berrini']\n",
      "Geração 21 - Melhor valor de aptidão: 35511 - Melhor solução: ['São Caetano do Sul', 'Tamanduateí', 'Sacomã', 'Alto do Ipiranga', 'Santos-Imigrantes', 'Chácara Klabin', 'Ana Rosa', 'Paraíso', 'Brigadeiro', 'Trianon-Masp', 'Consolação', 'Paulista', 'Oscar Freire', 'Fradique Coutinho', 'Faria Lima', 'Pinheiros', 'Hebraica-Rebouças', 'Cidade Jardim', 'Vila Olímpia', 'Berrini']\n",
      "Geração 22 - Melhor valor de aptidão: 35511 - Melhor solução: ['São Caetano do Sul', 'Tamanduateí', 'Sacomã', 'Alto do Ipiranga', 'Santos-Imigrantes', 'Chácara Klabin', 'Ana Rosa', 'Paraíso', 'Brigadeiro', 'Trianon-Masp', 'Consolação', 'Paulista', 'Oscar Freire', 'Fradique Coutinho', 'Faria Lima', 'Pinheiros', 'Hebraica-Rebouças', 'Cidade Jardim', 'Vila Olímpia', 'Berrini']\n",
      "Geração 23 - Melhor valor de aptidão: 35511 - Melhor solução: ['São Caetano do Sul', 'Tamanduateí', 'Sacomã', 'Alto do Ipiranga', 'Santos-Imigrantes', 'Chácara Klabin', 'Ana Rosa', 'Paraíso', 'Brigadeiro', 'Trianon-Masp', 'Consolação', 'Paulista', 'Oscar Freire', 'Fradique Coutinho', 'Faria Lima', 'Pinheiros', 'Hebraica-Rebouças', 'Cidade Jardim', 'Vila Olímpia', 'Berrini']\n",
      "Geração 24 - Melhor valor de aptidão: 35511 - Melhor solução: ['São Caetano do Sul', 'Tamanduateí', 'Sacomã', 'Alto do Ipiranga', 'Santos-Imigrantes', 'Chácara Klabin', 'Ana Rosa', 'Paraíso', 'Brigadeiro', 'Trianon-Masp', 'Consolação', 'Paulista', 'Oscar Freire', 'Fradique Coutinho', 'Faria Lima', 'Pinheiros', 'Hebraica-Rebouças', 'Cidade Jardim', 'Vila Olímpia', 'Berrini']\n",
      "Geração 25 - Melhor valor de aptidão: 35511 - Melhor solução: ['São Caetano do Sul', 'Tamanduateí', 'Sacomã', 'Alto do Ipiranga', 'Santos-Imigrantes', 'Chácara Klabin', 'Ana Rosa', 'Paraíso', 'Brigadeiro', 'Trianon-Masp', 'Consolação', 'Paulista', 'Oscar Freire', 'Fradique Coutinho', 'Faria Lima', 'Pinheiros', 'Hebraica-Rebouças', 'Cidade Jardim', 'Vila Olímpia', 'Berrini']\n",
      "Geração 26 - Melhor valor de aptidão: 35511 - Melhor solução: ['São Caetano do Sul', 'Tamanduateí', 'Sacomã', 'Alto do Ipiranga', 'Santos-Imigrantes', 'Chácara Klabin', 'Ana Rosa', 'Paraíso', 'Brigadeiro', 'Trianon-Masp', 'Consolação', 'Paulista', 'Oscar Freire', 'Fradique Coutinho', 'Faria Lima', 'Pinheiros', 'Hebraica-Rebouças', 'Cidade Jardim', 'Vila Olímpia', 'Berrini']\n",
      "Geração 27 - Melhor valor de aptidão: 35511 - Melhor solução: ['São Caetano do Sul', 'Tamanduateí', 'Sacomã', 'Alto do Ipiranga', 'Santos-Imigrantes', 'Chácara Klabin', 'Ana Rosa', 'Paraíso', 'Brigadeiro', 'Trianon-Masp', 'Consolação', 'Paulista', 'Oscar Freire', 'Fradique Coutinho', 'Faria Lima', 'Pinheiros', 'Hebraica-Rebouças', 'Cidade Jardim', 'Vila Olímpia', 'Berrini']\n",
      "Geração 28 - Melhor valor de aptidão: 35511 - Melhor solução: ['São Caetano do Sul', 'Tamanduateí', 'Sacomã', 'Alto do Ipiranga', 'Santos-Imigrantes', 'Chácara Klabin', 'Ana Rosa', 'Paraíso', 'Brigadeiro', 'Trianon-Masp', 'Consolação', 'Paulista', 'Oscar Freire', 'Fradique Coutinho', 'Faria Lima', 'Pinheiros', 'Hebraica-Rebouças', 'Cidade Jardim', 'Vila Olímpia', 'Berrini']\n",
      "Geração 29 - Melhor valor de aptidão: 35511 - Melhor solução: ['São Caetano do Sul', 'Tamanduateí', 'Sacomã', 'Alto do Ipiranga', 'Santos-Imigrantes', 'Chácara Klabin', 'Ana Rosa', 'Paraíso', 'Brigadeiro', 'Trianon-Masp', 'Consolação', 'Paulista', 'Oscar Freire', 'Fradique Coutinho', 'Faria Lima', 'Pinheiros', 'Hebraica-Rebouças', 'Cidade Jardim', 'Vila Olímpia', 'Berrini']\n",
      "Geração 30 - Melhor valor de aptidão: 35511 - Melhor solução: ['São Caetano do Sul', 'Tamanduateí', 'Sacomã', 'Alto do Ipiranga', 'Santos-Imigrantes', 'Chácara Klabin', 'Ana Rosa', 'Paraíso', 'Brigadeiro', 'Trianon-Masp', 'Consolação', 'Paulista', 'Oscar Freire', 'Fradique Coutinho', 'Faria Lima', 'Pinheiros', 'Hebraica-Rebouças', 'Cidade Jardim', 'Vila Olímpia', 'Berrini']\n",
      "Geração 31 - Melhor valor de aptidão: 35511 - Melhor solução: ['São Caetano do Sul', 'Tamanduateí', 'Sacomã', 'Alto do Ipiranga', 'Santos-Imigrantes', 'Chácara Klabin', 'Ana Rosa', 'Paraíso', 'Brigadeiro', 'Trianon-Masp', 'Consolação', 'Paulista', 'Oscar Freire', 'Fradique Coutinho', 'Faria Lima', 'Pinheiros', 'Hebraica-Rebouças', 'Cidade Jardim', 'Vila Olímpia', 'Berrini']\n",
      "Geração 32 - Melhor valor de aptidão: 35511 - Melhor solução: ['São Caetano do Sul', 'Tamanduateí', 'Sacomã', 'Alto do Ipiranga', 'Santos-Imigrantes', 'Chácara Klabin', 'Ana Rosa', 'Paraíso', 'Brigadeiro', 'Trianon-Masp', 'Consolação', 'Paulista', 'Oscar Freire', 'Fradique Coutinho', 'Faria Lima', 'Pinheiros', 'Hebraica-Rebouças', 'Cidade Jardim', 'Vila Olímpia', 'Berrini']\n",
      "Geração 33 - Melhor valor de aptidão: 35511 - Melhor solução: ['São Caetano do Sul', 'Tamanduateí', 'Sacomã', 'Alto do Ipiranga', 'Santos-Imigrantes', 'Chácara Klabin', 'Ana Rosa', 'Paraíso', 'Brigadeiro', 'Trianon-Masp', 'Consolação', 'Paulista', 'Oscar Freire', 'Fradique Coutinho', 'Faria Lima', 'Pinheiros', 'Hebraica-Rebouças', 'Cidade Jardim', 'Vila Olímpia', 'Berrini']\n",
      "Geração 34 - Melhor valor de aptidão: 35511 - Melhor solução: ['São Caetano do Sul', 'Tamanduateí', 'Sacomã', 'Alto do Ipiranga', 'Santos-Imigrantes', 'Chácara Klabin', 'Ana Rosa', 'Paraíso', 'Brigadeiro', 'Trianon-Masp', 'Consolação', 'Paulista', 'Oscar Freire', 'Fradique Coutinho', 'Faria Lima', 'Pinheiros', 'Hebraica-Rebouças', 'Cidade Jardim', 'Vila Olímpia', 'Berrini']\n",
      "Geração 35 - Melhor valor de aptidão: 35511 - Melhor solução: ['São Caetano do Sul', 'Tamanduateí', 'Sacomã', 'Alto do Ipiranga', 'Santos-Imigrantes', 'Chácara Klabin', 'Ana Rosa', 'Paraíso', 'Brigadeiro', 'Trianon-Masp', 'Consolação', 'Paulista', 'Oscar Freire', 'Fradique Coutinho', 'Faria Lima', 'Pinheiros', 'Hebraica-Rebouças', 'Cidade Jardim', 'Vila Olímpia', 'Berrini']\n",
      "Geração 36 - Melhor valor de aptidão: 35511 - Melhor solução: ['São Caetano do Sul', 'Tamanduateí', 'Sacomã', 'Alto do Ipiranga', 'Santos-Imigrantes', 'Chácara Klabin', 'Ana Rosa', 'Paraíso', 'Brigadeiro', 'Trianon-Masp', 'Consolação', 'Paulista', 'Oscar Freire', 'Fradique Coutinho', 'Faria Lima', 'Pinheiros', 'Hebraica-Rebouças', 'Cidade Jardim', 'Vila Olímpia', 'Berrini']\n",
      "Geração 37 - Melhor valor de aptidão: 35511 - Melhor solução: ['São Caetano do Sul', 'Tamanduateí', 'Sacomã', 'Alto do Ipiranga', 'Santos-Imigrantes', 'Chácara Klabin', 'Ana Rosa', 'Paraíso', 'Brigadeiro', 'Trianon-Masp', 'Consolação', 'Paulista', 'Oscar Freire', 'Fradique Coutinho', 'Faria Lima', 'Pinheiros', 'Hebraica-Rebouças', 'Cidade Jardim', 'Vila Olímpia', 'Berrini']\n",
      "Geração 38 - Melhor valor de aptidão: 35511 - Melhor solução: ['São Caetano do Sul', 'Tamanduateí', 'Sacomã', 'Alto do Ipiranga', 'Santos-Imigrantes', 'Chácara Klabin', 'Ana Rosa', 'Paraíso', 'Brigadeiro', 'Trianon-Masp', 'Consolação', 'Paulista', 'Oscar Freire', 'Fradique Coutinho', 'Faria Lima', 'Pinheiros', 'Hebraica-Rebouças', 'Cidade Jardim', 'Vila Olímpia', 'Berrini']\n",
      "Geração 39 - Melhor valor de aptidão: 35511 - Melhor solução: ['São Caetano do Sul', 'Tamanduateí', 'Sacomã', 'Alto do Ipiranga', 'Santos-Imigrantes', 'Chácara Klabin', 'Ana Rosa', 'Paraíso', 'Brigadeiro', 'Trianon-Masp', 'Consolação', 'Paulista', 'Oscar Freire', 'Fradique Coutinho', 'Faria Lima', 'Pinheiros', 'Hebraica-Rebouças', 'Cidade Jardim', 'Vila Olímpia', 'Berrini']\n",
      "Geração 40 - Melhor valor de aptidão: 35511 - Melhor solução: ['São Caetano do Sul', 'Tamanduateí', 'Sacomã', 'Alto do Ipiranga', 'Santos-Imigrantes', 'Chácara Klabin', 'Ana Rosa', 'Paraíso', 'Brigadeiro', 'Trianon-Masp', 'Consolação', 'Paulista', 'Oscar Freire', 'Fradique Coutinho', 'Faria Lima', 'Pinheiros', 'Hebraica-Rebouças', 'Cidade Jardim', 'Vila Olímpia', 'Berrini']\n",
      "Geração 41 - Melhor valor de aptidão: 35511 - Melhor solução: ['São Caetano do Sul', 'Tamanduateí', 'Sacomã', 'Alto do Ipiranga', 'Santos-Imigrantes', 'Chácara Klabin', 'Ana Rosa', 'Paraíso', 'Brigadeiro', 'Trianon-Masp', 'Consolação', 'Paulista', 'Oscar Freire', 'Fradique Coutinho', 'Faria Lima', 'Pinheiros', 'Hebraica-Rebouças', 'Cidade Jardim', 'Vila Olímpia', 'Berrini']\n",
      "Geração 42 - Melhor valor de aptidão: 35511 - Melhor solução: ['São Caetano do Sul', 'Tamanduateí', 'Sacomã', 'Alto do Ipiranga', 'Santos-Imigrantes', 'Chácara Klabin', 'Ana Rosa', 'Paraíso', 'Brigadeiro', 'Trianon-Masp', 'Consolação', 'Paulista', 'Oscar Freire', 'Fradique Coutinho', 'Faria Lima', 'Pinheiros', 'Hebraica-Rebouças', 'Cidade Jardim', 'Vila Olímpia', 'Berrini']\n",
      "Geração 43 - Melhor valor de aptidão: 35511 - Melhor solução: ['São Caetano do Sul', 'Tamanduateí', 'Sacomã', 'Alto do Ipiranga', 'Santos-Imigrantes', 'Chácara Klabin', 'Ana Rosa', 'Paraíso', 'Brigadeiro', 'Trianon-Masp', 'Consolação', 'Paulista', 'Oscar Freire', 'Fradique Coutinho', 'Faria Lima', 'Pinheiros', 'Hebraica-Rebouças', 'Cidade Jardim', 'Vila Olímpia', 'Berrini']\n",
      "Geração 44 - Melhor valor de aptidão: 35511 - Melhor solução: ['São Caetano do Sul', 'Tamanduateí', 'Sacomã', 'Alto do Ipiranga', 'Santos-Imigrantes', 'Chácara Klabin', 'Ana Rosa', 'Paraíso', 'Brigadeiro', 'Trianon-Masp', 'Consolação', 'Paulista', 'Oscar Freire', 'Fradique Coutinho', 'Faria Lima', 'Pinheiros', 'Hebraica-Rebouças', 'Cidade Jardim', 'Vila Olímpia', 'Berrini']\n",
      "Geração 45 - Melhor valor de aptidão: 35511 - Melhor solução: ['São Caetano do Sul', 'Tamanduateí', 'Sacomã', 'Alto do Ipiranga', 'Santos-Imigrantes', 'Chácara Klabin', 'Ana Rosa', 'Paraíso', 'Brigadeiro', 'Trianon-Masp', 'Consolação', 'Paulista', 'Oscar Freire', 'Fradique Coutinho', 'Faria Lima', 'Pinheiros', 'Hebraica-Rebouças', 'Cidade Jardim', 'Vila Olímpia', 'Berrini']\n",
      "Geração 46 - Melhor valor de aptidão: 35511 - Melhor solução: ['São Caetano do Sul', 'Tamanduateí', 'Sacomã', 'Alto do Ipiranga', 'Santos-Imigrantes', 'Chácara Klabin', 'Ana Rosa', 'Paraíso', 'Brigadeiro', 'Trianon-Masp', 'Consolação', 'Paulista', 'Oscar Freire', 'Fradique Coutinho', 'Faria Lima', 'Pinheiros', 'Hebraica-Rebouças', 'Cidade Jardim', 'Vila Olímpia', 'Berrini']\n",
      "Geração 47 - Melhor valor de aptidão: 35511 - Melhor solução: ['São Caetano do Sul', 'Tamanduateí', 'Sacomã', 'Alto do Ipiranga', 'Santos-Imigrantes', 'Chácara Klabin', 'Ana Rosa', 'Paraíso', 'Brigadeiro', 'Trianon-Masp', 'Consolação', 'Paulista', 'Oscar Freire', 'Fradique Coutinho', 'Faria Lima', 'Pinheiros', 'Hebraica-Rebouças', 'Cidade Jardim', 'Vila Olímpia', 'Berrini']\n",
      "Geração 48 - Melhor valor de aptidão: 35511 - Melhor solução: ['São Caetano do Sul', 'Tamanduateí', 'Sacomã', 'Alto do Ipiranga', 'Santos-Imigrantes', 'Chácara Klabin', 'Ana Rosa', 'Paraíso', 'Brigadeiro', 'Trianon-Masp', 'Consolação', 'Paulista', 'Oscar Freire', 'Fradique Coutinho', 'Faria Lima', 'Pinheiros', 'Hebraica-Rebouças', 'Cidade Jardim', 'Vila Olímpia', 'Berrini']\n",
      "Geração 49 - Melhor valor de aptidão: 35511 - Melhor solução: ['São Caetano do Sul', 'Tamanduateí', 'Sacomã', 'Alto do Ipiranga', 'Santos-Imigrantes', 'Chácara Klabin', 'Ana Rosa', 'Paraíso', 'Brigadeiro', 'Trianon-Masp', 'Consolação', 'Paulista', 'Oscar Freire', 'Fradique Coutinho', 'Faria Lima', 'Pinheiros', 'Hebraica-Rebouças', 'Cidade Jardim', 'Vila Olímpia', 'Berrini']\n",
      "Geração 50 - Melhor valor de aptidão: 35511 - Melhor solução: ['São Caetano do Sul', 'Tamanduateí', 'Sacomã', 'Alto do Ipiranga', 'Santos-Imigrantes', 'Chácara Klabin', 'Ana Rosa', 'Paraíso', 'Brigadeiro', 'Trianon-Masp', 'Consolação', 'Paulista', 'Oscar Freire', 'Fradique Coutinho', 'Faria Lima', 'Pinheiros', 'Hebraica-Rebouças', 'Cidade Jardim', 'Vila Olímpia', 'Berrini']\n",
      "Geração 51 - Melhor valor de aptidão: 35511 - Melhor solução: ['São Caetano do Sul', 'Tamanduateí', 'Sacomã', 'Alto do Ipiranga', 'Santos-Imigrantes', 'Chácara Klabin', 'Ana Rosa', 'Paraíso', 'Brigadeiro', 'Trianon-Masp', 'Consolação', 'Paulista', 'Oscar Freire', 'Fradique Coutinho', 'Faria Lima', 'Pinheiros', 'Hebraica-Rebouças', 'Cidade Jardim', 'Vila Olímpia', 'Berrini']\n",
      "Geração 52 - Melhor valor de aptidão: 35511 - Melhor solução: ['São Caetano do Sul', 'Tamanduateí', 'Sacomã', 'Alto do Ipiranga', 'Santos-Imigrantes', 'Chácara Klabin', 'Ana Rosa', 'Paraíso', 'Brigadeiro', 'Trianon-Masp', 'Consolação', 'Paulista', 'Oscar Freire', 'Fradique Coutinho', 'Faria Lima', 'Pinheiros', 'Hebraica-Rebouças', 'Cidade Jardim', 'Vila Olímpia', 'Berrini']\n",
      "Geração 53 - Melhor valor de aptidão: 35511 - Melhor solução: ['São Caetano do Sul', 'Tamanduateí', 'Sacomã', 'Alto do Ipiranga', 'Santos-Imigrantes', 'Chácara Klabin', 'Ana Rosa', 'Paraíso', 'Brigadeiro', 'Trianon-Masp', 'Consolação', 'Paulista', 'Oscar Freire', 'Fradique Coutinho', 'Faria Lima', 'Pinheiros', 'Hebraica-Rebouças', 'Cidade Jardim', 'Vila Olímpia', 'Berrini']\n",
      "Geração 54 - Melhor valor de aptidão: 35511 - Melhor solução: ['São Caetano do Sul', 'Tamanduateí', 'Sacomã', 'Alto do Ipiranga', 'Santos-Imigrantes', 'Chácara Klabin', 'Ana Rosa', 'Paraíso', 'Brigadeiro', 'Trianon-Masp', 'Consolação', 'Paulista', 'Oscar Freire', 'Fradique Coutinho', 'Faria Lima', 'Pinheiros', 'Hebraica-Rebouças', 'Cidade Jardim', 'Vila Olímpia', 'Berrini']\n",
      "Geração 55 - Melhor valor de aptidão: 35511 - Melhor solução: ['São Caetano do Sul', 'Tamanduateí', 'Sacomã', 'Alto do Ipiranga', 'Santos-Imigrantes', 'Chácara Klabin', 'Ana Rosa', 'Paraíso', 'Brigadeiro', 'Trianon-Masp', 'Consolação', 'Paulista', 'Oscar Freire', 'Fradique Coutinho', 'Faria Lima', 'Pinheiros', 'Hebraica-Rebouças', 'Cidade Jardim', 'Vila Olímpia', 'Berrini']\n",
      "Geração 56 - Melhor valor de aptidão: 35511 - Melhor solução: ['São Caetano do Sul', 'Tamanduateí', 'Sacomã', 'Alto do Ipiranga', 'Santos-Imigrantes', 'Chácara Klabin', 'Ana Rosa', 'Paraíso', 'Brigadeiro', 'Trianon-Masp', 'Consolação', 'Paulista', 'Oscar Freire', 'Fradique Coutinho', 'Faria Lima', 'Pinheiros', 'Hebraica-Rebouças', 'Cidade Jardim', 'Vila Olímpia', 'Berrini']\n",
      "Geração 57 - Melhor valor de aptidão: 35511 - Melhor solução: ['São Caetano do Sul', 'Tamanduateí', 'Sacomã', 'Alto do Ipiranga', 'Santos-Imigrantes', 'Chácara Klabin', 'Ana Rosa', 'Paraíso', 'Brigadeiro', 'Trianon-Masp', 'Consolação', 'Paulista', 'Oscar Freire', 'Fradique Coutinho', 'Faria Lima', 'Pinheiros', 'Hebraica-Rebouças', 'Cidade Jardim', 'Vila Olímpia', 'Berrini']\n",
      "Geração 58 - Melhor valor de aptidão: 35511 - Melhor solução: ['São Caetano do Sul', 'Tamanduateí', 'Sacomã', 'Alto do Ipiranga', 'Santos-Imigrantes', 'Chácara Klabin', 'Ana Rosa', 'Paraíso', 'Brigadeiro', 'Trianon-Masp', 'Consolação', 'Paulista', 'Oscar Freire', 'Fradique Coutinho', 'Faria Lima', 'Pinheiros', 'Hebraica-Rebouças', 'Cidade Jardim', 'Vila Olímpia', 'Berrini']\n",
      "Geração 59 - Melhor valor de aptidão: 35511 - Melhor solução: ['São Caetano do Sul', 'Tamanduateí', 'Sacomã', 'Alto do Ipiranga', 'Santos-Imigrantes', 'Chácara Klabin', 'Ana Rosa', 'Paraíso', 'Brigadeiro', 'Trianon-Masp', 'Consolação', 'Paulista', 'Oscar Freire', 'Fradique Coutinho', 'Faria Lima', 'Pinheiros', 'Hebraica-Rebouças', 'Cidade Jardim', 'Vila Olímpia', 'Berrini']\n",
      "Geração 60 - Melhor valor de aptidão: 35511 - Melhor solução: ['São Caetano do Sul', 'Tamanduateí', 'Sacomã', 'Alto do Ipiranga', 'Santos-Imigrantes', 'Chácara Klabin', 'Ana Rosa', 'Paraíso', 'Brigadeiro', 'Trianon-Masp', 'Consolação', 'Paulista', 'Oscar Freire', 'Fradique Coutinho', 'Faria Lima', 'Pinheiros', 'Hebraica-Rebouças', 'Cidade Jardim', 'Vila Olímpia', 'Berrini']\n",
      "Geração 61 - Melhor valor de aptidão: 35511 - Melhor solução: ['São Caetano do Sul', 'Tamanduateí', 'Sacomã', 'Alto do Ipiranga', 'Santos-Imigrantes', 'Chácara Klabin', 'Ana Rosa', 'Paraíso', 'Brigadeiro', 'Trianon-Masp', 'Consolação', 'Paulista', 'Oscar Freire', 'Fradique Coutinho', 'Faria Lima', 'Pinheiros', 'Hebraica-Rebouças', 'Cidade Jardim', 'Vila Olímpia', 'Berrini']\n",
      "Geração 62 - Melhor valor de aptidão: 35511 - Melhor solução: ['São Caetano do Sul', 'Tamanduateí', 'Sacomã', 'Alto do Ipiranga', 'Santos-Imigrantes', 'Chácara Klabin', 'Ana Rosa', 'Paraíso', 'Brigadeiro', 'Trianon-Masp', 'Consolação', 'Paulista', 'Oscar Freire', 'Fradique Coutinho', 'Faria Lima', 'Pinheiros', 'Hebraica-Rebouças', 'Cidade Jardim', 'Vila Olímpia', 'Berrini']\n",
      "Geração 63 - Melhor valor de aptidão: 35511 - Melhor solução: ['São Caetano do Sul', 'Tamanduateí', 'Sacomã', 'Alto do Ipiranga', 'Santos-Imigrantes', 'Chácara Klabin', 'Ana Rosa', 'Paraíso', 'Brigadeiro', 'Trianon-Masp', 'Consolação', 'Paulista', 'Oscar Freire', 'Fradique Coutinho', 'Faria Lima', 'Pinheiros', 'Hebraica-Rebouças', 'Cidade Jardim', 'Vila Olímpia', 'Berrini']\n",
      "Geração 64 - Melhor valor de aptidão: 35511 - Melhor solução: ['São Caetano do Sul', 'Tamanduateí', 'Sacomã', 'Alto do Ipiranga', 'Santos-Imigrantes', 'Chácara Klabin', 'Ana Rosa', 'Paraíso', 'Brigadeiro', 'Trianon-Masp', 'Consolação', 'Paulista', 'Oscar Freire', 'Fradique Coutinho', 'Faria Lima', 'Pinheiros', 'Hebraica-Rebouças', 'Cidade Jardim', 'Vila Olímpia', 'Berrini']\n",
      "Geração 65 - Melhor valor de aptidão: 35511 - Melhor solução: ['São Caetano do Sul', 'Tamanduateí', 'Sacomã', 'Alto do Ipiranga', 'Santos-Imigrantes', 'Chácara Klabin', 'Ana Rosa', 'Paraíso', 'Brigadeiro', 'Trianon-Masp', 'Consolação', 'Paulista', 'Oscar Freire', 'Fradique Coutinho', 'Faria Lima', 'Pinheiros', 'Hebraica-Rebouças', 'Cidade Jardim', 'Vila Olímpia', 'Berrini']\n",
      "Geração 66 - Melhor valor de aptidão: 35511 - Melhor solução: ['São Caetano do Sul', 'Tamanduateí', 'Sacomã', 'Alto do Ipiranga', 'Santos-Imigrantes', 'Chácara Klabin', 'Ana Rosa', 'Paraíso', 'Brigadeiro', 'Trianon-Masp', 'Consolação', 'Paulista', 'Oscar Freire', 'Fradique Coutinho', 'Faria Lima', 'Pinheiros', 'Hebraica-Rebouças', 'Cidade Jardim', 'Vila Olímpia', 'Berrini']\n",
      "Geração 67 - Melhor valor de aptidão: 35511 - Melhor solução: ['São Caetano do Sul', 'Tamanduateí', 'Sacomã', 'Alto do Ipiranga', 'Santos-Imigrantes', 'Chácara Klabin', 'Ana Rosa', 'Paraíso', 'Brigadeiro', 'Trianon-Masp', 'Consolação', 'Paulista', 'Oscar Freire', 'Fradique Coutinho', 'Faria Lima', 'Pinheiros', 'Hebraica-Rebouças', 'Cidade Jardim', 'Vila Olímpia', 'Berrini']\n",
      "Geração 68 - Melhor valor de aptidão: 35511 - Melhor solução: ['São Caetano do Sul', 'Tamanduateí', 'Sacomã', 'Alto do Ipiranga', 'Santos-Imigrantes', 'Chácara Klabin', 'Ana Rosa', 'Paraíso', 'Brigadeiro', 'Trianon-Masp', 'Consolação', 'Paulista', 'Oscar Freire', 'Fradique Coutinho', 'Faria Lima', 'Pinheiros', 'Hebraica-Rebouças', 'Cidade Jardim', 'Vila Olímpia', 'Berrini']\n",
      "Geração 69 - Melhor valor de aptidão: 35511 - Melhor solução: ['São Caetano do Sul', 'Tamanduateí', 'Sacomã', 'Alto do Ipiranga', 'Santos-Imigrantes', 'Chácara Klabin', 'Ana Rosa', 'Paraíso', 'Brigadeiro', 'Trianon-Masp', 'Consolação', 'Paulista', 'Oscar Freire', 'Fradique Coutinho', 'Faria Lima', 'Pinheiros', 'Hebraica-Rebouças', 'Cidade Jardim', 'Vila Olímpia', 'Berrini']\n",
      "Geração 70 - Melhor valor de aptidão: 35511 - Melhor solução: ['São Caetano do Sul', 'Tamanduateí', 'Sacomã', 'Alto do Ipiranga', 'Santos-Imigrantes', 'Chácara Klabin', 'Ana Rosa', 'Paraíso', 'Brigadeiro', 'Trianon-Masp', 'Consolação', 'Paulista', 'Oscar Freire', 'Fradique Coutinho', 'Faria Lima', 'Pinheiros', 'Hebraica-Rebouças', 'Cidade Jardim', 'Vila Olímpia', 'Berrini']\n",
      "Geração 71 - Melhor valor de aptidão: 35511 - Melhor solução: ['São Caetano do Sul', 'Tamanduateí', 'Sacomã', 'Alto do Ipiranga', 'Santos-Imigrantes', 'Chácara Klabin', 'Ana Rosa', 'Paraíso', 'Brigadeiro', 'Trianon-Masp', 'Consolação', 'Paulista', 'Oscar Freire', 'Fradique Coutinho', 'Faria Lima', 'Pinheiros', 'Hebraica-Rebouças', 'Cidade Jardim', 'Vila Olímpia', 'Berrini']\n",
      "Geração 72 - Melhor valor de aptidão: 35511 - Melhor solução: ['São Caetano do Sul', 'Tamanduateí', 'Sacomã', 'Alto do Ipiranga', 'Santos-Imigrantes', 'Chácara Klabin', 'Ana Rosa', 'Paraíso', 'Brigadeiro', 'Trianon-Masp', 'Consolação', 'Paulista', 'Oscar Freire', 'Fradique Coutinho', 'Faria Lima', 'Pinheiros', 'Hebraica-Rebouças', 'Cidade Jardim', 'Vila Olímpia', 'Berrini']\n",
      "Geração 73 - Melhor valor de aptidão: 35511 - Melhor solução: ['São Caetano do Sul', 'Tamanduateí', 'Sacomã', 'Alto do Ipiranga', 'Santos-Imigrantes', 'Chácara Klabin', 'Ana Rosa', 'Paraíso', 'Brigadeiro', 'Trianon-Masp', 'Consolação', 'Paulista', 'Oscar Freire', 'Fradique Coutinho', 'Faria Lima', 'Pinheiros', 'Hebraica-Rebouças', 'Cidade Jardim', 'Vila Olímpia', 'Berrini']\n",
      "Geração 74 - Melhor valor de aptidão: 35511 - Melhor solução: ['São Caetano do Sul', 'Tamanduateí', 'Sacomã', 'Alto do Ipiranga', 'Santos-Imigrantes', 'Chácara Klabin', 'Ana Rosa', 'Paraíso', 'Brigadeiro', 'Trianon-Masp', 'Consolação', 'Paulista', 'Oscar Freire', 'Fradique Coutinho', 'Faria Lima', 'Pinheiros', 'Hebraica-Rebouças', 'Cidade Jardim', 'Vila Olímpia', 'Berrini']\n",
      "Geração 75 - Melhor valor de aptidão: 35511 - Melhor solução: ['São Caetano do Sul', 'Tamanduateí', 'Sacomã', 'Alto do Ipiranga', 'Santos-Imigrantes', 'Chácara Klabin', 'Ana Rosa', 'Paraíso', 'Brigadeiro', 'Trianon-Masp', 'Consolação', 'Paulista', 'Oscar Freire', 'Fradique Coutinho', 'Faria Lima', 'Pinheiros', 'Hebraica-Rebouças', 'Cidade Jardim', 'Vila Olímpia', 'Berrini']\n",
      "Geração 76 - Melhor valor de aptidão: 35511 - Melhor solução: ['São Caetano do Sul', 'Tamanduateí', 'Sacomã', 'Alto do Ipiranga', 'Santos-Imigrantes', 'Chácara Klabin', 'Ana Rosa', 'Paraíso', 'Brigadeiro', 'Trianon-Masp', 'Consolação', 'Paulista', 'Oscar Freire', 'Fradique Coutinho', 'Faria Lima', 'Pinheiros', 'Hebraica-Rebouças', 'Cidade Jardim', 'Vila Olímpia', 'Berrini']\n",
      "Geração 77 - Melhor valor de aptidão: 35511 - Melhor solução: ['São Caetano do Sul', 'Tamanduateí', 'Sacomã', 'Alto do Ipiranga', 'Santos-Imigrantes', 'Chácara Klabin', 'Ana Rosa', 'Paraíso', 'Brigadeiro', 'Trianon-Masp', 'Consolação', 'Paulista', 'Oscar Freire', 'Fradique Coutinho', 'Faria Lima', 'Pinheiros', 'Hebraica-Rebouças', 'Cidade Jardim', 'Vila Olímpia', 'Berrini']\n",
      "Geração 78 - Melhor valor de aptidão: 35511 - Melhor solução: ['São Caetano do Sul', 'Tamanduateí', 'Sacomã', 'Alto do Ipiranga', 'Santos-Imigrantes', 'Chácara Klabin', 'Ana Rosa', 'Paraíso', 'Brigadeiro', 'Trianon-Masp', 'Consolação', 'Paulista', 'Oscar Freire', 'Fradique Coutinho', 'Faria Lima', 'Pinheiros', 'Hebraica-Rebouças', 'Cidade Jardim', 'Vila Olímpia', 'Berrini']\n",
      "Geração 79 - Melhor valor de aptidão: 35511 - Melhor solução: ['São Caetano do Sul', 'Tamanduateí', 'Sacomã', 'Alto do Ipiranga', 'Santos-Imigrantes', 'Chácara Klabin', 'Ana Rosa', 'Paraíso', 'Brigadeiro', 'Trianon-Masp', 'Consolação', 'Paulista', 'Oscar Freire', 'Fradique Coutinho', 'Faria Lima', 'Pinheiros', 'Hebraica-Rebouças', 'Cidade Jardim', 'Vila Olímpia', 'Berrini']\n",
      "Geração 80 - Melhor valor de aptidão: 35511 - Melhor solução: ['São Caetano do Sul', 'Tamanduateí', 'Sacomã', 'Alto do Ipiranga', 'Santos-Imigrantes', 'Chácara Klabin', 'Ana Rosa', 'Paraíso', 'Brigadeiro', 'Trianon-Masp', 'Consolação', 'Paulista', 'Oscar Freire', 'Fradique Coutinho', 'Faria Lima', 'Pinheiros', 'Hebraica-Rebouças', 'Cidade Jardim', 'Vila Olímpia', 'Berrini']\n",
      "Geração 81 - Melhor valor de aptidão: 35511 - Melhor solução: ['São Caetano do Sul', 'Tamanduateí', 'Sacomã', 'Alto do Ipiranga', 'Santos-Imigrantes', 'Chácara Klabin', 'Ana Rosa', 'Paraíso', 'Brigadeiro', 'Trianon-Masp', 'Consolação', 'Paulista', 'Oscar Freire', 'Fradique Coutinho', 'Faria Lima', 'Pinheiros', 'Hebraica-Rebouças', 'Cidade Jardim', 'Vila Olímpia', 'Berrini']\n",
      "Geração 82 - Melhor valor de aptidão: 35511 - Melhor solução: ['São Caetano do Sul', 'Tamanduateí', 'Sacomã', 'Alto do Ipiranga', 'Santos-Imigrantes', 'Chácara Klabin', 'Ana Rosa', 'Paraíso', 'Brigadeiro', 'Trianon-Masp', 'Consolação', 'Paulista', 'Oscar Freire', 'Fradique Coutinho', 'Faria Lima', 'Pinheiros', 'Hebraica-Rebouças', 'Cidade Jardim', 'Vila Olímpia', 'Berrini']\n",
      "Geração 83 - Melhor valor de aptidão: 35511 - Melhor solução: ['São Caetano do Sul', 'Tamanduateí', 'Sacomã', 'Alto do Ipiranga', 'Santos-Imigrantes', 'Chácara Klabin', 'Ana Rosa', 'Paraíso', 'Brigadeiro', 'Trianon-Masp', 'Consolação', 'Paulista', 'Oscar Freire', 'Fradique Coutinho', 'Faria Lima', 'Pinheiros', 'Hebraica-Rebouças', 'Cidade Jardim', 'Vila Olímpia', 'Berrini']\n",
      "Geração 84 - Melhor valor de aptidão: 35511 - Melhor solução: ['São Caetano do Sul', 'Tamanduateí', 'Sacomã', 'Alto do Ipiranga', 'Santos-Imigrantes', 'Chácara Klabin', 'Ana Rosa', 'Paraíso', 'Brigadeiro', 'Trianon-Masp', 'Consolação', 'Paulista', 'Oscar Freire', 'Fradique Coutinho', 'Faria Lima', 'Pinheiros', 'Hebraica-Rebouças', 'Cidade Jardim', 'Vila Olímpia', 'Berrini']\n",
      "Geração 85 - Melhor valor de aptidão: 35511 - Melhor solução: ['São Caetano do Sul', 'Tamanduateí', 'Sacomã', 'Alto do Ipiranga', 'Santos-Imigrantes', 'Chácara Klabin', 'Ana Rosa', 'Paraíso', 'Brigadeiro', 'Trianon-Masp', 'Consolação', 'Paulista', 'Oscar Freire', 'Fradique Coutinho', 'Faria Lima', 'Pinheiros', 'Hebraica-Rebouças', 'Cidade Jardim', 'Vila Olímpia', 'Berrini']\n",
      "Geração 86 - Melhor valor de aptidão: 35511 - Melhor solução: ['São Caetano do Sul', 'Tamanduateí', 'Sacomã', 'Alto do Ipiranga', 'Santos-Imigrantes', 'Chácara Klabin', 'Ana Rosa', 'Paraíso', 'Brigadeiro', 'Trianon-Masp', 'Consolação', 'Paulista', 'Oscar Freire', 'Fradique Coutinho', 'Faria Lima', 'Pinheiros', 'Hebraica-Rebouças', 'Cidade Jardim', 'Vila Olímpia', 'Berrini']\n",
      "Geração 87 - Melhor valor de aptidão: 35511 - Melhor solução: ['São Caetano do Sul', 'Tamanduateí', 'Sacomã', 'Alto do Ipiranga', 'Santos-Imigrantes', 'Chácara Klabin', 'Ana Rosa', 'Paraíso', 'Brigadeiro', 'Trianon-Masp', 'Consolação', 'Paulista', 'Oscar Freire', 'Fradique Coutinho', 'Faria Lima', 'Pinheiros', 'Hebraica-Rebouças', 'Cidade Jardim', 'Vila Olímpia', 'Berrini']\n",
      "Geração 88 - Melhor valor de aptidão: 35511 - Melhor solução: ['São Caetano do Sul', 'Tamanduateí', 'Sacomã', 'Alto do Ipiranga', 'Santos-Imigrantes', 'Chácara Klabin', 'Ana Rosa', 'Paraíso', 'Brigadeiro', 'Trianon-Masp', 'Consolação', 'Paulista', 'Oscar Freire', 'Fradique Coutinho', 'Faria Lima', 'Pinheiros', 'Hebraica-Rebouças', 'Cidade Jardim', 'Vila Olímpia', 'Berrini']\n",
      "Geração 89 - Melhor valor de aptidão: 35511 - Melhor solução: ['São Caetano do Sul', 'Tamanduateí', 'Sacomã', 'Alto do Ipiranga', 'Santos-Imigrantes', 'Chácara Klabin', 'Ana Rosa', 'Paraíso', 'Brigadeiro', 'Trianon-Masp', 'Consolação', 'Paulista', 'Oscar Freire', 'Fradique Coutinho', 'Faria Lima', 'Pinheiros', 'Hebraica-Rebouças', 'Cidade Jardim', 'Vila Olímpia', 'Berrini']\n",
      "Geração 90 - Melhor valor de aptidão: 35511 - Melhor solução: ['São Caetano do Sul', 'Tamanduateí', 'Sacomã', 'Alto do Ipiranga', 'Santos-Imigrantes', 'Chácara Klabin', 'Ana Rosa', 'Paraíso', 'Brigadeiro', 'Trianon-Masp', 'Consolação', 'Paulista', 'Oscar Freire', 'Fradique Coutinho', 'Faria Lima', 'Pinheiros', 'Hebraica-Rebouças', 'Cidade Jardim', 'Vila Olímpia', 'Berrini']\n",
      "Geração 91 - Melhor valor de aptidão: 35511 - Melhor solução: ['São Caetano do Sul', 'Tamanduateí', 'Sacomã', 'Alto do Ipiranga', 'Santos-Imigrantes', 'Chácara Klabin', 'Ana Rosa', 'Paraíso', 'Brigadeiro', 'Trianon-Masp', 'Consolação', 'Paulista', 'Oscar Freire', 'Fradique Coutinho', 'Faria Lima', 'Pinheiros', 'Hebraica-Rebouças', 'Cidade Jardim', 'Vila Olímpia', 'Berrini']\n",
      "Geração 92 - Melhor valor de aptidão: 35511 - Melhor solução: ['São Caetano do Sul', 'Tamanduateí', 'Sacomã', 'Alto do Ipiranga', 'Santos-Imigrantes', 'Chácara Klabin', 'Ana Rosa', 'Paraíso', 'Brigadeiro', 'Trianon-Masp', 'Consolação', 'Paulista', 'Oscar Freire', 'Fradique Coutinho', 'Faria Lima', 'Pinheiros', 'Hebraica-Rebouças', 'Cidade Jardim', 'Vila Olímpia', 'Berrini']\n",
      "Geração 93 - Melhor valor de aptidão: 35511 - Melhor solução: ['São Caetano do Sul', 'Tamanduateí', 'Sacomã', 'Alto do Ipiranga', 'Santos-Imigrantes', 'Chácara Klabin', 'Ana Rosa', 'Paraíso', 'Brigadeiro', 'Trianon-Masp', 'Consolação', 'Paulista', 'Oscar Freire', 'Fradique Coutinho', 'Faria Lima', 'Pinheiros', 'Hebraica-Rebouças', 'Cidade Jardim', 'Vila Olímpia', 'Berrini']\n",
      "Geração 94 - Melhor valor de aptidão: 35511 - Melhor solução: ['São Caetano do Sul', 'Tamanduateí', 'Sacomã', 'Alto do Ipiranga', 'Santos-Imigrantes', 'Chácara Klabin', 'Ana Rosa', 'Paraíso', 'Brigadeiro', 'Trianon-Masp', 'Consolação', 'Paulista', 'Oscar Freire', 'Fradique Coutinho', 'Faria Lima', 'Pinheiros', 'Hebraica-Rebouças', 'Cidade Jardim', 'Vila Olímpia', 'Berrini']\n",
      "Geração 95 - Melhor valor de aptidão: 35511 - Melhor solução: ['São Caetano do Sul', 'Tamanduateí', 'Sacomã', 'Alto do Ipiranga', 'Santos-Imigrantes', 'Chácara Klabin', 'Ana Rosa', 'Paraíso', 'Brigadeiro', 'Trianon-Masp', 'Consolação', 'Paulista', 'Oscar Freire', 'Fradique Coutinho', 'Faria Lima', 'Pinheiros', 'Hebraica-Rebouças', 'Cidade Jardim', 'Vila Olímpia', 'Berrini']\n",
      "Geração 96 - Melhor valor de aptidão: 35511 - Melhor solução: ['São Caetano do Sul', 'Tamanduateí', 'Sacomã', 'Alto do Ipiranga', 'Santos-Imigrantes', 'Chácara Klabin', 'Ana Rosa', 'Paraíso', 'Brigadeiro', 'Trianon-Masp', 'Consolação', 'Paulista', 'Oscar Freire', 'Fradique Coutinho', 'Faria Lima', 'Pinheiros', 'Hebraica-Rebouças', 'Cidade Jardim', 'Vila Olímpia', 'Berrini']\n",
      "Geração 97 - Melhor valor de aptidão: 35511 - Melhor solução: ['São Caetano do Sul', 'Tamanduateí', 'Sacomã', 'Alto do Ipiranga', 'Santos-Imigrantes', 'Chácara Klabin', 'Ana Rosa', 'Paraíso', 'Brigadeiro', 'Trianon-Masp', 'Consolação', 'Paulista', 'Oscar Freire', 'Fradique Coutinho', 'Faria Lima', 'Pinheiros', 'Hebraica-Rebouças', 'Cidade Jardim', 'Vila Olímpia', 'Berrini']\n",
      "Geração 98 - Melhor valor de aptidão: 35511 - Melhor solução: ['São Caetano do Sul', 'Tamanduateí', 'Sacomã', 'Alto do Ipiranga', 'Santos-Imigrantes', 'Chácara Klabin', 'Ana Rosa', 'Paraíso', 'Brigadeiro', 'Trianon-Masp', 'Consolação', 'Paulista', 'Oscar Freire', 'Fradique Coutinho', 'Faria Lima', 'Pinheiros', 'Hebraica-Rebouças', 'Cidade Jardim', 'Vila Olímpia', 'Berrini']\n",
      "Geração 99 - Melhor valor de aptidão: 35511 - Melhor solução: ['São Caetano do Sul', 'Tamanduateí', 'Sacomã', 'Alto do Ipiranga', 'Santos-Imigrantes', 'Chácara Klabin', 'Ana Rosa', 'Paraíso', 'Brigadeiro', 'Trianon-Masp', 'Consolação', 'Paulista', 'Oscar Freire', 'Fradique Coutinho', 'Faria Lima', 'Pinheiros', 'Hebraica-Rebouças', 'Cidade Jardim', 'Vila Olímpia', 'Berrini']\n",
      "Geração 100 - Melhor valor de aptidão: 35511 - Melhor solução: ['São Caetano do Sul', 'Tamanduateí', 'Sacomã', 'Alto do Ipiranga', 'Santos-Imigrantes', 'Chácara Klabin', 'Ana Rosa', 'Paraíso', 'Brigadeiro', 'Trianon-Masp', 'Consolação', 'Paulista', 'Oscar Freire', 'Fradique Coutinho', 'Faria Lima', 'Pinheiros', 'Hebraica-Rebouças', 'Cidade Jardim', 'Vila Olímpia', 'Berrini']\n",
      "Melhor distância: 35.511 km - Melhor solução: ['São Caetano do Sul', 'Tamanduateí', 'Sacomã', 'Alto do Ipiranga', 'Santos-Imigrantes', 'Chácara Klabin', 'Ana Rosa', 'Paraíso', 'Brigadeiro', 'Trianon-Masp', 'Consolação', 'Paulista', 'Oscar Freire', 'Fradique Coutinho', 'Faria Lima', 'Pinheiros', 'Hebraica-Rebouças', 'Cidade Jardim', 'Vila Olímpia', 'Berrini']\n"
     ]
    }
   ],
   "source": [
    "melhor_solucao, melhor_distancia = algoritmo_genetico(ESTACAO_INICIO, ESTACAO_FINAL, NUM_GERACOES, TAM_POPULACAO)\n",
    "print(f'Melhor distância: {melhor_distancia} km - Melhor solução: {melhor_solucao}')"
   ]
  },
  {
   "cell_type": "markdown",
   "metadata": {},
   "source": [
    "### **Comparação**"
   ]
  },
  {
   "cell_type": "markdown",
   "metadata": {},
   "source": [
    "Primeiramente vamos validar como ficou as rotas convencionais em relação a rota otimizada pelo Algoritmo Genético utilizando a função que ordena uma população para retornar como ficou a aptidão das 3 rotas:"
   ]
  },
  {
   "cell_type": "code",
   "execution_count": 38,
   "metadata": {},
   "outputs": [
    {
     "name": "stdout",
     "output_type": "stream",
     "text": [
      "Estações Melhor Solução: ['São Caetano do Sul', 'Tamanduateí', 'Sacomã', 'Alto do Ipiranga', 'Santos-Imigrantes', 'Chácara Klabin', 'Ana Rosa', 'Paraíso', 'Brigadeiro', 'Trianon-Masp', 'Consolação', 'Paulista', 'Oscar Freire', 'Fradique Coutinho', 'Faria Lima', 'Pinheiros', 'Hebraica-Rebouças', 'Cidade Jardim', 'Vila Olímpia', 'Berrini']\n",
      "Estações Mapa Metropolitano: ['São Caetano do Sul', 'Tamanduateí', 'Ipiranga', 'Juventus-Mooca', 'Brás', 'Luz', 'República', 'Higienópolis-Mackenzie', 'Paulista', 'Oscar Freire', 'Fradique Coutinho', 'Faria Lima', 'Pinheiros', 'Hebraica-Rebouças', 'Cidade Jardim', 'Vila Olímpia', 'Berrini']\n",
      "Estações Google Maps: ['São Caetano do Sul', 'Tamanduateí', 'Ipiranga', 'Juventus-Mooca', 'Brás', 'Luz', 'República', 'Higienópolis-Mackenzie', 'Paulista', 'Oscar Freire', 'Fradique Coutinho', 'Faria Lima', 'Pinheiros', 'Hebraica-Rebouças', 'Cidade Jardim', 'Vila Olímpia', 'Berrini']\n",
      "Aptidão ordenada: [35511, 38356, 38356]\n"
     ]
    }
   ],
   "source": [
    "populacao = [estacoes_mapa_metropolitano, estacoes_google_maps, melhor_solucao]\n",
    "\n",
    "populacao_ordenada, aptidao_ordenada = ordenar_populacao(populacao)\n",
    "\n",
    "print(f'Estações Melhor Solução: {melhor_solucao}')\n",
    "print(f'Estações Mapa Metropolitano: {estacoes_mapa_metropolitano}')\n",
    "print(f'Estações Google Maps: {estacoes_google_maps}')\n",
    "print(f'Aptidão ordenada: {aptidao_ordenada}')"
   ]
  },
  {
   "cell_type": "markdown",
   "metadata": {},
   "source": [
    "O resultado mostrou que o Algoritmo Genético, apesar de passar por mais estações, conseguiu reduzir a distância total de viagem em quase 3 km comparado com as rotas convencionais do Mapa Metropolitano e Google Maps."
   ]
  },
  {
   "cell_type": "markdown",
   "metadata": {},
   "source": [
    "### **Conclusão**"
   ]
  },
  {
   "cell_type": "markdown",
   "metadata": {},
   "source": [
    "Os Algoritmos Genéticos são ferramentas poderosas para resolver problemas complexos de otimização de rotas. A aplicação no contexto das linhas e estações de metrô de São Paulo resultou em uma significativa melhora na distância total de viagem entre as duas estações, contribuindo para um trajeto mais eficiente."
   ]
  }
 ],
 "metadata": {
  "kernelspec": {
   "display_name": "Python 3",
   "language": "python",
   "name": "python3"
  },
  "language_info": {
   "codemirror_mode": {
    "name": "ipython",
    "version": 3
   },
   "file_extension": ".py",
   "mimetype": "text/x-python",
   "name": "python",
   "nbconvert_exporter": "python",
   "pygments_lexer": "ipython3",
   "version": "3.12.0"
  }
 },
 "nbformat": 4,
 "nbformat_minor": 2
}
